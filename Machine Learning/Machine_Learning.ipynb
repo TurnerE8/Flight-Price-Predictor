{
 "cells": [
  {
   "cell_type": "code",
   "execution_count": 1,
   "id": "06db5f09",
   "metadata": {},
   "outputs": [],
   "source": [
    "# import dependencies\n",
    "import warnings\n",
    "warnings.filterwarnings('ignore')"
   ]
  },
  {
   "cell_type": "code",
   "execution_count": 2,
   "id": "2e4e70b7",
   "metadata": {},
   "outputs": [],
   "source": [
    "import numpy as np\n",
    "import pandas as pd\n",
    "from pathlib import Path\n",
    "from collections import Counter\n",
    "from matplotlib import pyplot as plt\n",
    "import datetime as dt"
   ]
  },
  {
   "cell_type": "code",
   "execution_count": 3,
   "id": "8efb5916",
   "metadata": {},
   "outputs": [],
   "source": [
    "from sklearn.preprocessing import LabelEncoder\n",
    "from sklearn import linear_model\n",
    "from sklearn.linear_model import LinearRegression\n",
    "from sklearn.ensemble import RandomForestRegressor\n",
    "from sklearn.datasets import make_regression\n",
    "from sklearn.model_selection import train_test_split\n",
    "from sklearn.metrics import r2_score\n",
    "from sklearn.metrics import mean_squared_error\n",
    "from xgboost import XGBRegressor"
   ]
  },
  {
   "cell_type": "code",
   "execution_count": 4,
   "id": "d1ae985c",
   "metadata": {},
   "outputs": [
    {
     "data": {
      "text/html": [
       "<div>\n",
       "<style scoped>\n",
       "    .dataframe tbody tr th:only-of-type {\n",
       "        vertical-align: middle;\n",
       "    }\n",
       "\n",
       "    .dataframe tbody tr th {\n",
       "        vertical-align: top;\n",
       "    }\n",
       "\n",
       "    .dataframe thead th {\n",
       "        text-align: right;\n",
       "    }\n",
       "</style>\n",
       "<table border=\"1\" class=\"dataframe\">\n",
       "  <thead>\n",
       "    <tr style=\"text-align: right;\">\n",
       "      <th></th>\n",
       "      <th>Unnamed: 0</th>\n",
       "      <th>searchDate</th>\n",
       "      <th>flightDate</th>\n",
       "      <th>startingAirport</th>\n",
       "      <th>destinationAirport</th>\n",
       "      <th>travelDuration</th>\n",
       "      <th>isBasicEconomy</th>\n",
       "      <th>isRefundable</th>\n",
       "      <th>isNonStop</th>\n",
       "      <th>totalFare</th>\n",
       "      <th>totalTravelDistance</th>\n",
       "      <th>searchDaysBeforeFlight</th>\n",
       "    </tr>\n",
       "  </thead>\n",
       "  <tbody>\n",
       "    <tr>\n",
       "      <th>0</th>\n",
       "      <td>0</td>\n",
       "      <td>2022-09-28</td>\n",
       "      <td>2022-10-05</td>\n",
       "      <td>SFO</td>\n",
       "      <td>ORD</td>\n",
       "      <td>0 days 07:05:00</td>\n",
       "      <td>0</td>\n",
       "      <td>0</td>\n",
       "      <td>0</td>\n",
       "      <td>451.60</td>\n",
       "      <td>1933.0</td>\n",
       "      <td>7</td>\n",
       "    </tr>\n",
       "    <tr>\n",
       "      <th>1</th>\n",
       "      <td>1</td>\n",
       "      <td>2022-09-28</td>\n",
       "      <td>2022-10-05</td>\n",
       "      <td>SFO</td>\n",
       "      <td>ORD</td>\n",
       "      <td>0 days 07:52:00</td>\n",
       "      <td>0</td>\n",
       "      <td>0</td>\n",
       "      <td>0</td>\n",
       "      <td>451.60</td>\n",
       "      <td>1933.0</td>\n",
       "      <td>7</td>\n",
       "    </tr>\n",
       "    <tr>\n",
       "      <th>2</th>\n",
       "      <td>2</td>\n",
       "      <td>2022-09-28</td>\n",
       "      <td>2022-10-05</td>\n",
       "      <td>SFO</td>\n",
       "      <td>ORD</td>\n",
       "      <td>0 days 08:34:00</td>\n",
       "      <td>0</td>\n",
       "      <td>0</td>\n",
       "      <td>0</td>\n",
       "      <td>451.60</td>\n",
       "      <td>1933.0</td>\n",
       "      <td>7</td>\n",
       "    </tr>\n",
       "    <tr>\n",
       "      <th>3</th>\n",
       "      <td>3</td>\n",
       "      <td>2022-09-28</td>\n",
       "      <td>2022-10-05</td>\n",
       "      <td>SFO</td>\n",
       "      <td>PHL</td>\n",
       "      <td>0 days 07:49:00</td>\n",
       "      <td>0</td>\n",
       "      <td>0</td>\n",
       "      <td>0</td>\n",
       "      <td>103.99</td>\n",
       "      <td>2590.0</td>\n",
       "      <td>7</td>\n",
       "    </tr>\n",
       "    <tr>\n",
       "      <th>4</th>\n",
       "      <td>4</td>\n",
       "      <td>2022-09-28</td>\n",
       "      <td>2022-10-05</td>\n",
       "      <td>SFO</td>\n",
       "      <td>PHL</td>\n",
       "      <td>0 days 13:19:00</td>\n",
       "      <td>0</td>\n",
       "      <td>0</td>\n",
       "      <td>0</td>\n",
       "      <td>109.59</td>\n",
       "      <td>2590.0</td>\n",
       "      <td>7</td>\n",
       "    </tr>\n",
       "  </tbody>\n",
       "</table>\n",
       "</div>"
      ],
      "text/plain": [
       "   Unnamed: 0  searchDate  flightDate startingAirport destinationAirport  \\\n",
       "0           0  2022-09-28  2022-10-05             SFO                ORD   \n",
       "1           1  2022-09-28  2022-10-05             SFO                ORD   \n",
       "2           2  2022-09-28  2022-10-05             SFO                ORD   \n",
       "3           3  2022-09-28  2022-10-05             SFO                PHL   \n",
       "4           4  2022-09-28  2022-10-05             SFO                PHL   \n",
       "\n",
       "    travelDuration  isBasicEconomy  isRefundable  isNonStop  totalFare  \\\n",
       "0  0 days 07:05:00               0             0          0     451.60   \n",
       "1  0 days 07:52:00               0             0          0     451.60   \n",
       "2  0 days 08:34:00               0             0          0     451.60   \n",
       "3  0 days 07:49:00               0             0          0     103.99   \n",
       "4  0 days 13:19:00               0             0          0     109.59   \n",
       "\n",
       "   totalTravelDistance  searchDaysBeforeFlight  \n",
       "0               1933.0                       7  \n",
       "1               1933.0                       7  \n",
       "2               1933.0                       7  \n",
       "3               2590.0                       7  \n",
       "4               2590.0                       7  "
      ]
     },
     "execution_count": 4,
     "metadata": {},
     "output_type": "execute_result"
    }
   ],
   "source": [
    "# Load the data\n",
    "file_path = Path(\"../Resources/flight_data_clean_all.csv\")\n",
    "df = pd.read_csv(file_path, skiprows=0)[:-2]\n",
    "\n",
    "df.head()"
   ]
  },
  {
   "cell_type": "code",
   "execution_count": 5,
   "id": "494e28da",
   "metadata": {},
   "outputs": [
    {
     "data": {
      "text/html": [
       "<div>\n",
       "<style scoped>\n",
       "    .dataframe tbody tr th:only-of-type {\n",
       "        vertical-align: middle;\n",
       "    }\n",
       "\n",
       "    .dataframe tbody tr th {\n",
       "        vertical-align: top;\n",
       "    }\n",
       "\n",
       "    .dataframe thead th {\n",
       "        text-align: right;\n",
       "    }\n",
       "</style>\n",
       "<table border=\"1\" class=\"dataframe\">\n",
       "  <thead>\n",
       "    <tr style=\"text-align: right;\">\n",
       "      <th></th>\n",
       "      <th>flightDate</th>\n",
       "      <th>startingAirport</th>\n",
       "      <th>destinationAirport</th>\n",
       "      <th>travelDuration</th>\n",
       "      <th>isBasicEconomy</th>\n",
       "      <th>isRefundable</th>\n",
       "      <th>isNonStop</th>\n",
       "      <th>totalFare</th>\n",
       "      <th>totalTravelDistance</th>\n",
       "      <th>searchDaysBeforeFlight</th>\n",
       "    </tr>\n",
       "  </thead>\n",
       "  <tbody>\n",
       "    <tr>\n",
       "      <th>0</th>\n",
       "      <td>2022-10-05</td>\n",
       "      <td>SFO</td>\n",
       "      <td>ORD</td>\n",
       "      <td>0 days 07:05:00</td>\n",
       "      <td>0</td>\n",
       "      <td>0</td>\n",
       "      <td>0</td>\n",
       "      <td>451.60</td>\n",
       "      <td>1933.0</td>\n",
       "      <td>7</td>\n",
       "    </tr>\n",
       "    <tr>\n",
       "      <th>1</th>\n",
       "      <td>2022-10-05</td>\n",
       "      <td>SFO</td>\n",
       "      <td>ORD</td>\n",
       "      <td>0 days 07:52:00</td>\n",
       "      <td>0</td>\n",
       "      <td>0</td>\n",
       "      <td>0</td>\n",
       "      <td>451.60</td>\n",
       "      <td>1933.0</td>\n",
       "      <td>7</td>\n",
       "    </tr>\n",
       "    <tr>\n",
       "      <th>2</th>\n",
       "      <td>2022-10-05</td>\n",
       "      <td>SFO</td>\n",
       "      <td>ORD</td>\n",
       "      <td>0 days 08:34:00</td>\n",
       "      <td>0</td>\n",
       "      <td>0</td>\n",
       "      <td>0</td>\n",
       "      <td>451.60</td>\n",
       "      <td>1933.0</td>\n",
       "      <td>7</td>\n",
       "    </tr>\n",
       "    <tr>\n",
       "      <th>3</th>\n",
       "      <td>2022-10-05</td>\n",
       "      <td>SFO</td>\n",
       "      <td>PHL</td>\n",
       "      <td>0 days 07:49:00</td>\n",
       "      <td>0</td>\n",
       "      <td>0</td>\n",
       "      <td>0</td>\n",
       "      <td>103.99</td>\n",
       "      <td>2590.0</td>\n",
       "      <td>7</td>\n",
       "    </tr>\n",
       "    <tr>\n",
       "      <th>4</th>\n",
       "      <td>2022-10-05</td>\n",
       "      <td>SFO</td>\n",
       "      <td>PHL</td>\n",
       "      <td>0 days 13:19:00</td>\n",
       "      <td>0</td>\n",
       "      <td>0</td>\n",
       "      <td>0</td>\n",
       "      <td>109.59</td>\n",
       "      <td>2590.0</td>\n",
       "      <td>7</td>\n",
       "    </tr>\n",
       "  </tbody>\n",
       "</table>\n",
       "</div>"
      ],
      "text/plain": [
       "   flightDate startingAirport destinationAirport   travelDuration  \\\n",
       "0  2022-10-05             SFO                ORD  0 days 07:05:00   \n",
       "1  2022-10-05             SFO                ORD  0 days 07:52:00   \n",
       "2  2022-10-05             SFO                ORD  0 days 08:34:00   \n",
       "3  2022-10-05             SFO                PHL  0 days 07:49:00   \n",
       "4  2022-10-05             SFO                PHL  0 days 13:19:00   \n",
       "\n",
       "   isBasicEconomy  isRefundable  isNonStop  totalFare  totalTravelDistance  \\\n",
       "0               0             0          0     451.60               1933.0   \n",
       "1               0             0          0     451.60               1933.0   \n",
       "2               0             0          0     451.60               1933.0   \n",
       "3               0             0          0     103.99               2590.0   \n",
       "4               0             0          0     109.59               2590.0   \n",
       "\n",
       "   searchDaysBeforeFlight  \n",
       "0                       7  \n",
       "1                       7  \n",
       "2                       7  \n",
       "3                       7  \n",
       "4                       7  "
      ]
     },
     "execution_count": 5,
     "metadata": {},
     "output_type": "execute_result"
    }
   ],
   "source": [
    "#drop first two columns\n",
    "df = df.iloc[: , 2:]\n",
    "df.head()"
   ]
  },
  {
   "cell_type": "code",
   "execution_count": 6,
   "id": "e40fd702",
   "metadata": {},
   "outputs": [
    {
     "data": {
      "text/plain": [
       "flightDate                     0\n",
       "startingAirport                0\n",
       "destinationAirport             0\n",
       "travelDuration                 0\n",
       "isBasicEconomy                 0\n",
       "isRefundable                   0\n",
       "isNonStop                      0\n",
       "totalFare                      0\n",
       "totalTravelDistance       116321\n",
       "searchDaysBeforeFlight         0\n",
       "dtype: int64"
      ]
     },
     "execution_count": 6,
     "metadata": {},
     "output_type": "execute_result"
    }
   ],
   "source": [
    "#check for null values\n",
    "df.isna().sum()"
   ]
  },
  {
   "cell_type": "code",
   "execution_count": 7,
   "id": "ef9bc91f",
   "metadata": {},
   "outputs": [
    {
     "data": {
      "text/plain": [
       "flightDate                0\n",
       "startingAirport           0\n",
       "destinationAirport        0\n",
       "travelDuration            0\n",
       "isBasicEconomy            0\n",
       "isRefundable              0\n",
       "isNonStop                 0\n",
       "totalFare                 0\n",
       "totalTravelDistance       0\n",
       "searchDaysBeforeFlight    0\n",
       "dtype: int64"
      ]
     },
     "execution_count": 7,
     "metadata": {},
     "output_type": "execute_result"
    }
   ],
   "source": [
    "#drop null values. still have over 1.5 million rows of data.\n",
    "df = df.dropna()\n",
    "df.isna().sum()"
   ]
  },
  {
   "cell_type": "code",
   "execution_count": 8,
   "id": "f24e9c13",
   "metadata": {},
   "outputs": [
    {
     "data": {
      "text/plain": [
       "flightDate                 object\n",
       "startingAirport            object\n",
       "destinationAirport         object\n",
       "travelDuration             object\n",
       "isBasicEconomy              int64\n",
       "isRefundable                int64\n",
       "isNonStop                   int64\n",
       "totalFare                 float64\n",
       "totalTravelDistance       float64\n",
       "searchDaysBeforeFlight      int64\n",
       "dtype: object"
      ]
     },
     "execution_count": 8,
     "metadata": {},
     "output_type": "execute_result"
    }
   ],
   "source": [
    "# check df datatypes\n",
    "df.dtypes"
   ]
  },
  {
   "cell_type": "code",
   "execution_count": 9,
   "id": "487d51f0",
   "metadata": {},
   "outputs": [],
   "source": [
    "# start new df and encode startingAirport and endingAirport\n",
    "le = LabelEncoder()\n",
    "df2 = df.copy()\n",
    "df2['startingAirport'] = le.fit_transform(df2['startingAirport'])\n",
    "df2['destinationAirport'] = le.fit_transform(df2['destinationAirport'])"
   ]
  },
  {
   "cell_type": "code",
   "execution_count": 10,
   "id": "c6b5065d",
   "metadata": {},
   "outputs": [
    {
     "data": {
      "text/html": [
       "<div>\n",
       "<style scoped>\n",
       "    .dataframe tbody tr th:only-of-type {\n",
       "        vertical-align: middle;\n",
       "    }\n",
       "\n",
       "    .dataframe tbody tr th {\n",
       "        vertical-align: top;\n",
       "    }\n",
       "\n",
       "    .dataframe thead th {\n",
       "        text-align: right;\n",
       "    }\n",
       "</style>\n",
       "<table border=\"1\" class=\"dataframe\">\n",
       "  <thead>\n",
       "    <tr style=\"text-align: right;\">\n",
       "      <th></th>\n",
       "      <th>flightDate</th>\n",
       "      <th>startingAirport</th>\n",
       "      <th>destinationAirport</th>\n",
       "      <th>isBasicEconomy</th>\n",
       "      <th>isRefundable</th>\n",
       "      <th>isNonStop</th>\n",
       "      <th>totalFare</th>\n",
       "      <th>totalTravelDistance</th>\n",
       "      <th>searchDaysBeforeFlight</th>\n",
       "      <th>travelDurationFinal</th>\n",
       "    </tr>\n",
       "  </thead>\n",
       "  <tbody>\n",
       "    <tr>\n",
       "      <th>0</th>\n",
       "      <td>2022-10-05</td>\n",
       "      <td>15</td>\n",
       "      <td>13</td>\n",
       "      <td>0</td>\n",
       "      <td>0</td>\n",
       "      <td>0</td>\n",
       "      <td>451.60</td>\n",
       "      <td>1933.0</td>\n",
       "      <td>7</td>\n",
       "      <td>425</td>\n",
       "    </tr>\n",
       "    <tr>\n",
       "      <th>1</th>\n",
       "      <td>2022-10-05</td>\n",
       "      <td>15</td>\n",
       "      <td>13</td>\n",
       "      <td>0</td>\n",
       "      <td>0</td>\n",
       "      <td>0</td>\n",
       "      <td>451.60</td>\n",
       "      <td>1933.0</td>\n",
       "      <td>7</td>\n",
       "      <td>472</td>\n",
       "    </tr>\n",
       "    <tr>\n",
       "      <th>2</th>\n",
       "      <td>2022-10-05</td>\n",
       "      <td>15</td>\n",
       "      <td>13</td>\n",
       "      <td>0</td>\n",
       "      <td>0</td>\n",
       "      <td>0</td>\n",
       "      <td>451.60</td>\n",
       "      <td>1933.0</td>\n",
       "      <td>7</td>\n",
       "      <td>514</td>\n",
       "    </tr>\n",
       "    <tr>\n",
       "      <th>3</th>\n",
       "      <td>2022-10-05</td>\n",
       "      <td>15</td>\n",
       "      <td>14</td>\n",
       "      <td>0</td>\n",
       "      <td>0</td>\n",
       "      <td>0</td>\n",
       "      <td>103.99</td>\n",
       "      <td>2590.0</td>\n",
       "      <td>7</td>\n",
       "      <td>469</td>\n",
       "    </tr>\n",
       "    <tr>\n",
       "      <th>4</th>\n",
       "      <td>2022-10-05</td>\n",
       "      <td>15</td>\n",
       "      <td>14</td>\n",
       "      <td>0</td>\n",
       "      <td>0</td>\n",
       "      <td>0</td>\n",
       "      <td>109.59</td>\n",
       "      <td>2590.0</td>\n",
       "      <td>7</td>\n",
       "      <td>799</td>\n",
       "    </tr>\n",
       "  </tbody>\n",
       "</table>\n",
       "</div>"
      ],
      "text/plain": [
       "   flightDate  startingAirport  destinationAirport  isBasicEconomy  \\\n",
       "0  2022-10-05               15                  13               0   \n",
       "1  2022-10-05               15                  13               0   \n",
       "2  2022-10-05               15                  13               0   \n",
       "3  2022-10-05               15                  14               0   \n",
       "4  2022-10-05               15                  14               0   \n",
       "\n",
       "   isRefundable  isNonStop  totalFare  totalTravelDistance  \\\n",
       "0             0          0     451.60               1933.0   \n",
       "1             0          0     451.60               1933.0   \n",
       "2             0          0     451.60               1933.0   \n",
       "3             0          0     103.99               2590.0   \n",
       "4             0          0     109.59               2590.0   \n",
       "\n",
       "   searchDaysBeforeFlight  travelDurationFinal  \n",
       "0                       7                  425  \n",
       "1                       7                  472  \n",
       "2                       7                  514  \n",
       "3                       7                  469  \n",
       "4                       7                  799  "
      ]
     },
     "execution_count": 10,
     "metadata": {},
     "output_type": "execute_result"
    }
   ],
   "source": [
    "#convert travelDuration to minutes\n",
    "df2['travelDurationDays'] = pd.to_numeric(df2['travelDuration'].str.slice(0,1))\n",
    "df2['travelDurationHours'] = pd.to_numeric(df2['travelDuration'].str.slice(7,9))\n",
    "df2['travelDurationMinutes'] = pd.to_numeric(df2['travelDuration'].str.slice(10,12))\n",
    "df2['travelDurationFinal'] = ((df2['travelDurationDays']*1440)+(df2['travelDurationHours']*60)+(df2['travelDurationMinutes']))\n",
    "df2 = df2.drop(columns=['travelDurationDays','travelDurationHours','travelDurationMinutes','travelDuration'])\n",
    "df2.head()"
   ]
  },
  {
   "cell_type": "code",
   "execution_count": 11,
   "id": "91899a21",
   "metadata": {},
   "outputs": [],
   "source": [
    "# convert flight date to number format by day of week\n",
    "df2['flightDate'] = pd.to_datetime(df2['flightDate'])\n",
    "s = df2['flightDate']\n",
    "s = pd.Series(s)\n",
    "s = s.dt.dayofweek\n",
    "df2['dayOfWeek'] = s"
   ]
  },
  {
   "cell_type": "code",
   "execution_count": 12,
   "id": "cbc34761",
   "metadata": {},
   "outputs": [],
   "source": [
    "df2['flightDate'] = pd.to_datetime(df2['flightDate']).astype('int64')/ 10**9"
   ]
  },
  {
   "cell_type": "code",
   "execution_count": 15,
   "id": "dbd1f659",
   "metadata": {},
   "outputs": [
    {
     "data": {
      "text/html": [
       "<div>\n",
       "<style scoped>\n",
       "    .dataframe tbody tr th:only-of-type {\n",
       "        vertical-align: middle;\n",
       "    }\n",
       "\n",
       "    .dataframe tbody tr th {\n",
       "        vertical-align: top;\n",
       "    }\n",
       "\n",
       "    .dataframe thead th {\n",
       "        text-align: right;\n",
       "    }\n",
       "</style>\n",
       "<table border=\"1\" class=\"dataframe\">\n",
       "  <thead>\n",
       "    <tr style=\"text-align: right;\">\n",
       "      <th></th>\n",
       "      <th>flightDate</th>\n",
       "      <th>startingAirport</th>\n",
       "      <th>destinationAirport</th>\n",
       "      <th>travelDuration</th>\n",
       "      <th>isBasicEconomy</th>\n",
       "      <th>isRefundable</th>\n",
       "      <th>isNonStop</th>\n",
       "      <th>totalFare</th>\n",
       "      <th>totalTravelDistance</th>\n",
       "      <th>searchDaysBeforeFlight</th>\n",
       "    </tr>\n",
       "  </thead>\n",
       "  <tbody>\n",
       "    <tr>\n",
       "      <th>393695</th>\n",
       "      <td>2022-09-30</td>\n",
       "      <td>DFW</td>\n",
       "      <td>DEN</td>\n",
       "      <td>0 days 03:20:00</td>\n",
       "      <td>0</td>\n",
       "      <td>1</td>\n",
       "      <td>0</td>\n",
       "      <td>472.41</td>\n",
       "      <td>752.0</td>\n",
       "      <td>1</td>\n",
       "    </tr>\n",
       "    <tr>\n",
       "      <th>399870</th>\n",
       "      <td>2022-09-30</td>\n",
       "      <td>ORD</td>\n",
       "      <td>DEN</td>\n",
       "      <td>0 days 04:30:00</td>\n",
       "      <td>0</td>\n",
       "      <td>1</td>\n",
       "      <td>0</td>\n",
       "      <td>492.41</td>\n",
       "      <td>1045.0</td>\n",
       "      <td>1</td>\n",
       "    </tr>\n",
       "    <tr>\n",
       "      <th>472951</th>\n",
       "      <td>2022-10-07</td>\n",
       "      <td>DFW</td>\n",
       "      <td>DEN</td>\n",
       "      <td>0 days 03:20:00</td>\n",
       "      <td>0</td>\n",
       "      <td>1</td>\n",
       "      <td>0</td>\n",
       "      <td>422.40</td>\n",
       "      <td>752.0</td>\n",
       "      <td>8</td>\n",
       "    </tr>\n",
       "    <tr>\n",
       "      <th>850161</th>\n",
       "      <td>2022-10-01</td>\n",
       "      <td>DFW</td>\n",
       "      <td>DEN</td>\n",
       "      <td>0 days 03:20:00</td>\n",
       "      <td>0</td>\n",
       "      <td>1</td>\n",
       "      <td>0</td>\n",
       "      <td>472.41</td>\n",
       "      <td>752.0</td>\n",
       "      <td>1</td>\n",
       "    </tr>\n",
       "    <tr>\n",
       "      <th>918542</th>\n",
       "      <td>2022-10-07</td>\n",
       "      <td>DFW</td>\n",
       "      <td>DEN</td>\n",
       "      <td>0 days 03:20:00</td>\n",
       "      <td>0</td>\n",
       "      <td>1</td>\n",
       "      <td>0</td>\n",
       "      <td>422.40</td>\n",
       "      <td>752.0</td>\n",
       "      <td>7</td>\n",
       "    </tr>\n",
       "    <tr>\n",
       "      <th>1360062</th>\n",
       "      <td>2022-10-02</td>\n",
       "      <td>DFW</td>\n",
       "      <td>DEN</td>\n",
       "      <td>0 days 03:20:00</td>\n",
       "      <td>0</td>\n",
       "      <td>1</td>\n",
       "      <td>0</td>\n",
       "      <td>472.41</td>\n",
       "      <td>752.0</td>\n",
       "      <td>1</td>\n",
       "    </tr>\n",
       "    <tr>\n",
       "      <th>1365556</th>\n",
       "      <td>2022-10-02</td>\n",
       "      <td>ORD</td>\n",
       "      <td>DEN</td>\n",
       "      <td>0 days 04:30:00</td>\n",
       "      <td>0</td>\n",
       "      <td>1</td>\n",
       "      <td>0</td>\n",
       "      <td>492.41</td>\n",
       "      <td>1045.0</td>\n",
       "      <td>1</td>\n",
       "    </tr>\n",
       "    <tr>\n",
       "      <th>1418041</th>\n",
       "      <td>2022-10-07</td>\n",
       "      <td>DFW</td>\n",
       "      <td>DEN</td>\n",
       "      <td>0 days 03:20:00</td>\n",
       "      <td>0</td>\n",
       "      <td>1</td>\n",
       "      <td>0</td>\n",
       "      <td>422.40</td>\n",
       "      <td>752.0</td>\n",
       "      <td>6</td>\n",
       "    </tr>\n",
       "  </tbody>\n",
       "</table>\n",
       "</div>"
      ],
      "text/plain": [
       "         flightDate startingAirport destinationAirport   travelDuration  \\\n",
       "393695   2022-09-30             DFW                DEN  0 days 03:20:00   \n",
       "399870   2022-09-30             ORD                DEN  0 days 04:30:00   \n",
       "472951   2022-10-07             DFW                DEN  0 days 03:20:00   \n",
       "850161   2022-10-01             DFW                DEN  0 days 03:20:00   \n",
       "918542   2022-10-07             DFW                DEN  0 days 03:20:00   \n",
       "1360062  2022-10-02             DFW                DEN  0 days 03:20:00   \n",
       "1365556  2022-10-02             ORD                DEN  0 days 04:30:00   \n",
       "1418041  2022-10-07             DFW                DEN  0 days 03:20:00   \n",
       "\n",
       "         isBasicEconomy  isRefundable  isNonStop  totalFare  \\\n",
       "393695                0             1          0     472.41   \n",
       "399870                0             1          0     492.41   \n",
       "472951                0             1          0     422.40   \n",
       "850161                0             1          0     472.41   \n",
       "918542                0             1          0     422.40   \n",
       "1360062               0             1          0     472.41   \n",
       "1365556               0             1          0     492.41   \n",
       "1418041               0             1          0     422.40   \n",
       "\n",
       "         totalTravelDistance  searchDaysBeforeFlight  \n",
       "393695                 752.0                       1  \n",
       "399870                1045.0                       1  \n",
       "472951                 752.0                       8  \n",
       "850161                 752.0                       1  \n",
       "918542                 752.0                       7  \n",
       "1360062                752.0                       1  \n",
       "1365556               1045.0                       1  \n",
       "1418041                752.0                       6  "
      ]
     },
     "execution_count": 15,
     "metadata": {},
     "output_type": "execute_result"
    }
   ],
   "source": [
    "#check how many flights were refundable\n",
    "refundable = df.loc[df[\"isRefundable\"] == 1, :]\n",
    "refundable"
   ]
  },
  {
   "cell_type": "code",
   "execution_count": 16,
   "id": "21c0464d",
   "metadata": {},
   "outputs": [],
   "source": [
    "#drop isRefundable column\n",
    "df2 = df2.drop(\"isRefundable\", axis=1)"
   ]
  },
  {
   "cell_type": "code",
   "execution_count": 17,
   "id": "fcb379da",
   "metadata": {},
   "outputs": [
    {
     "data": {
      "text/html": [
       "<div>\n",
       "<style scoped>\n",
       "    .dataframe tbody tr th:only-of-type {\n",
       "        vertical-align: middle;\n",
       "    }\n",
       "\n",
       "    .dataframe tbody tr th {\n",
       "        vertical-align: top;\n",
       "    }\n",
       "\n",
       "    .dataframe thead th {\n",
       "        text-align: right;\n",
       "    }\n",
       "</style>\n",
       "<table border=\"1\" class=\"dataframe\">\n",
       "  <thead>\n",
       "    <tr style=\"text-align: right;\">\n",
       "      <th></th>\n",
       "      <th>flightDate</th>\n",
       "      <th>startingAirport</th>\n",
       "      <th>destinationAirport</th>\n",
       "      <th>isBasicEconomy</th>\n",
       "      <th>isNonStop</th>\n",
       "      <th>totalFare</th>\n",
       "      <th>totalTravelDistance</th>\n",
       "      <th>searchDaysBeforeFlight</th>\n",
       "      <th>travelDurationFinal</th>\n",
       "      <th>dayOfWeek</th>\n",
       "    </tr>\n",
       "  </thead>\n",
       "  <tbody>\n",
       "    <tr>\n",
       "      <th>0</th>\n",
       "      <td>1.664928e+09</td>\n",
       "      <td>15</td>\n",
       "      <td>13</td>\n",
       "      <td>0</td>\n",
       "      <td>0</td>\n",
       "      <td>451.60</td>\n",
       "      <td>1933.0</td>\n",
       "      <td>7</td>\n",
       "      <td>425</td>\n",
       "      <td>2</td>\n",
       "    </tr>\n",
       "    <tr>\n",
       "      <th>1</th>\n",
       "      <td>1.664928e+09</td>\n",
       "      <td>15</td>\n",
       "      <td>13</td>\n",
       "      <td>0</td>\n",
       "      <td>0</td>\n",
       "      <td>451.60</td>\n",
       "      <td>1933.0</td>\n",
       "      <td>7</td>\n",
       "      <td>472</td>\n",
       "      <td>2</td>\n",
       "    </tr>\n",
       "    <tr>\n",
       "      <th>2</th>\n",
       "      <td>1.664928e+09</td>\n",
       "      <td>15</td>\n",
       "      <td>13</td>\n",
       "      <td>0</td>\n",
       "      <td>0</td>\n",
       "      <td>451.60</td>\n",
       "      <td>1933.0</td>\n",
       "      <td>7</td>\n",
       "      <td>514</td>\n",
       "      <td>2</td>\n",
       "    </tr>\n",
       "    <tr>\n",
       "      <th>3</th>\n",
       "      <td>1.664928e+09</td>\n",
       "      <td>15</td>\n",
       "      <td>14</td>\n",
       "      <td>0</td>\n",
       "      <td>0</td>\n",
       "      <td>103.99</td>\n",
       "      <td>2590.0</td>\n",
       "      <td>7</td>\n",
       "      <td>469</td>\n",
       "      <td>2</td>\n",
       "    </tr>\n",
       "    <tr>\n",
       "      <th>4</th>\n",
       "      <td>1.664928e+09</td>\n",
       "      <td>15</td>\n",
       "      <td>14</td>\n",
       "      <td>0</td>\n",
       "      <td>0</td>\n",
       "      <td>109.59</td>\n",
       "      <td>2590.0</td>\n",
       "      <td>7</td>\n",
       "      <td>799</td>\n",
       "      <td>2</td>\n",
       "    </tr>\n",
       "  </tbody>\n",
       "</table>\n",
       "</div>"
      ],
      "text/plain": [
       "     flightDate  startingAirport  destinationAirport  isBasicEconomy  \\\n",
       "0  1.664928e+09               15                  13               0   \n",
       "1  1.664928e+09               15                  13               0   \n",
       "2  1.664928e+09               15                  13               0   \n",
       "3  1.664928e+09               15                  14               0   \n",
       "4  1.664928e+09               15                  14               0   \n",
       "\n",
       "   isNonStop  totalFare  totalTravelDistance  searchDaysBeforeFlight  \\\n",
       "0          0     451.60               1933.0                       7   \n",
       "1          0     451.60               1933.0                       7   \n",
       "2          0     451.60               1933.0                       7   \n",
       "3          0     103.99               2590.0                       7   \n",
       "4          0     109.59               2590.0                       7   \n",
       "\n",
       "   travelDurationFinal  dayOfWeek  \n",
       "0                  425          2  \n",
       "1                  472          2  \n",
       "2                  514          2  \n",
       "3                  469          2  \n",
       "4                  799          2  "
      ]
     },
     "execution_count": 17,
     "metadata": {},
     "output_type": "execute_result"
    }
   ],
   "source": [
    "df2.head()"
   ]
  },
  {
   "cell_type": "code",
   "execution_count": 18,
   "id": "4e187cb6",
   "metadata": {},
   "outputs": [
    {
     "data": {
      "text/plain": [
       "flightDate                float64\n",
       "startingAirport             int32\n",
       "destinationAirport          int32\n",
       "isBasicEconomy              int64\n",
       "isNonStop                   int64\n",
       "totalFare                 float64\n",
       "totalTravelDistance       float64\n",
       "searchDaysBeforeFlight      int64\n",
       "travelDurationFinal         int64\n",
       "dayOfWeek                   int64\n",
       "dtype: object"
      ]
     },
     "execution_count": 18,
     "metadata": {},
     "output_type": "execute_result"
    }
   ],
   "source": [
    "df2.dtypes"
   ]
  },
  {
   "cell_type": "code",
   "execution_count": 110,
   "id": "6c065d6a",
   "metadata": {},
   "outputs": [
    {
     "ename": "IndentationError",
     "evalue": "unexpected indent (3520715096.py, line 5)",
     "output_type": "error",
     "traceback": [
      "\u001b[1;36m  File \u001b[1;32m\"C:\\Users\\travi\\AppData\\Local\\Temp\\ipykernel_4316\\3520715096.py\"\u001b[1;36m, line \u001b[1;32m5\u001b[0m\n\u001b[1;33m    'isBasicEconomy','isRefundable','isNonStop','totalTravelDistance',\u001b[0m\n\u001b[1;37m    ^\u001b[0m\n\u001b[1;31mIndentationError\u001b[0m\u001b[1;31m:\u001b[0m unexpected indent\n"
     ]
    }
   ],
   "source": [
    "# Creating the scaler instance\n",
    "#from sklearn.preprocessing import StandardScaler\n",
    "#data_scaler = StandardScaler()\n",
    "#X = pd.DataFrame(data_scaler.fit_transform(df2.drop([\"totalFare\"],axis = 1),),columns=['flightDate','startingAirport','destinationAirport',\n",
    "                                                                                      'isBasicEconomy','isRefundable','isNonStop','totalTravelDistance',\n",
    "                                                                                      'searchDaysBeforeFlight','travelDurationFinal'])\n",
    "#y = df2[\"totalFare\"]"
   ]
  },
  {
   "cell_type": "code",
   "execution_count": 111,
   "id": "b4512d62",
   "metadata": {},
   "outputs": [],
   "source": [
    "#X.head()"
   ]
  },
  {
   "cell_type": "code",
   "execution_count": 19,
   "id": "1a45758c",
   "metadata": {},
   "outputs": [],
   "source": [
    "# Create our features\n",
    "X = df2.copy()\n",
    "X = X.drop(\"totalFare\", axis=1)\n",
    "\n",
    "# Create our target\n",
    "y = df2[\"totalFare\"]"
   ]
  },
  {
   "cell_type": "code",
   "execution_count": 20,
   "id": "68debcb2",
   "metadata": {},
   "outputs": [
    {
     "data": {
      "text/plain": [
       "(1226787, 9)"
      ]
     },
     "execution_count": 20,
     "metadata": {},
     "output_type": "execute_result"
    }
   ],
   "source": [
    "#split data into training and testing\n",
    "X_train, X_test, y_train, y_test = train_test_split(X, \n",
    "                                                    y, \n",
    "                                                    random_state=1)\n",
    "X_train.shape "
   ]
  },
  {
   "cell_type": "code",
   "execution_count": 21,
   "id": "b85e8d76",
   "metadata": {},
   "outputs": [
    {
     "data": {
      "text/plain": [
       "LinearRegression()"
      ]
     },
     "execution_count": 21,
     "metadata": {},
     "output_type": "execute_result"
    }
   ],
   "source": [
    "# fit a linear regression model\n",
    "regr = LinearRegression()\n",
    "regr.fit(X_train, y_train) "
   ]
  },
  {
   "cell_type": "code",
   "execution_count": 22,
   "id": "e8ba919a",
   "metadata": {},
   "outputs": [
    {
     "data": {
      "text/plain": [
       "array([189.74510381, 302.78720407, 321.92543527, ...,  85.94179348,\n",
       "       392.28866553, 181.51038021])"
      ]
     },
     "execution_count": 22,
     "metadata": {},
     "output_type": "execute_result"
    }
   ],
   "source": [
    "#predict flight costs\n",
    "y_prediction = regr.predict(X_test)\n",
    "y_prediction"
   ]
  },
  {
   "cell_type": "code",
   "execution_count": 23,
   "id": "249e707c",
   "metadata": {},
   "outputs": [
    {
     "name": "stdout",
     "output_type": "stream",
     "text": [
      "r2 score:  0.4311933866912845\n",
      "mean_sqrd_error:  21270.611763539786\n",
      "root_mean_squared error of:  145.8444780015335\n"
     ]
    }
   ],
   "source": [
    "# evaluate linear regression model\n",
    "score = r2_score(y_test,y_prediction)\n",
    "print('r2 score: ',score)\n",
    "print('mean_sqrd_error: ',mean_squared_error(y_test,y_prediction))\n",
    "print('root_mean_squared error of: ',np.sqrt(mean_squared_error(y_test,y_prediction)))"
   ]
  },
  {
   "cell_type": "code",
   "execution_count": 27,
   "id": "99b9bd05",
   "metadata": {},
   "outputs": [],
   "source": [
    "#initialize random forest regressor model\n",
    "X_train, y_train = make_regression(n_features=9)\n",
    "forestRegr = RandomForestRegressor(max_depth=50, min_samples_split=20, n_estimators=100, random_state=0)"
   ]
  },
  {
   "cell_type": "code",
   "execution_count": 28,
   "id": "70539626",
   "metadata": {},
   "outputs": [
    {
     "data": {
      "text/plain": [
       "RandomForestRegressor(max_depth=50, min_samples_split=20, random_state=0)"
      ]
     },
     "execution_count": 28,
     "metadata": {},
     "output_type": "execute_result"
    }
   ],
   "source": [
    "#fit random forest regessor data\n",
    "forestRegr.fit(X_train, y_train)"
   ]
  },
  {
   "cell_type": "code",
   "execution_count": 29,
   "id": "4d59b8ef",
   "metadata": {},
   "outputs": [
    {
     "data": {
      "text/plain": [
       "array([212.27302443, 214.77851228, 210.34697354, ..., 212.27302443,\n",
       "       210.34697354, 212.27302443])"
      ]
     },
     "execution_count": 29,
     "metadata": {},
     "output_type": "execute_result"
    }
   ],
   "source": [
    "#run random forest regressor model\n",
    "forestPredict = forestRegr.predict(X_test)\n",
    "forestPredict"
   ]
  },
  {
   "cell_type": "code",
   "execution_count": 30,
   "id": "7a2edde3",
   "metadata": {},
   "outputs": [
    {
     "name": "stdout",
     "output_type": "stream",
     "text": [
      "r2 score:  -0.3258151775562159\n",
      "mean_sqrd_error:  49579.06475095958\n",
      "root_mean_squared error of:  222.66356853100055\n"
     ]
    }
   ],
   "source": [
    "#evaluate random forest regressor model\n",
    "forestScore = r2_score(y_test, forestPredict)\n",
    "print('r2 score: ',forestScore)\n",
    "print('mean_sqrd_error: ',mean_squared_error(y_test,forestPredict))\n",
    "print('root_mean_squared error of: ',np.sqrt(mean_squared_error(y_test,forestPredict)))"
   ]
  },
  {
   "cell_type": "code",
   "execution_count": 31,
   "id": "29e46d5e",
   "metadata": {},
   "outputs": [
    {
     "data": {
      "text/plain": [
       "array([0.00335086, 0.01674276, 0.04955021, 0.05410145, 0.01681657,\n",
       "       0.40216003, 0.01528036, 0.43489086, 0.0071069 ])"
      ]
     },
     "execution_count": 31,
     "metadata": {},
     "output_type": "execute_result"
    }
   ],
   "source": [
    "forestRegr.feature_importances_"
   ]
  },
  {
   "cell_type": "code",
   "execution_count": 32,
   "id": "c9cc558e",
   "metadata": {},
   "outputs": [],
   "source": [
    "# initialize XGBRebressor\n",
    "XGBR = XGBRegressor()"
   ]
  },
  {
   "cell_type": "code",
   "execution_count": 34,
   "id": "c221958d",
   "metadata": {},
   "outputs": [
    {
     "data": {
      "text/plain": [
       "XGBRegressor(base_score=0.5, booster='gbtree', callbacks=None,\n",
       "             colsample_bylevel=1, colsample_bynode=1, colsample_bytree=1,\n",
       "             early_stopping_rounds=None, enable_categorical=False,\n",
       "             eval_metric=None, gamma=0, gpu_id=-1, grow_policy='depthwise',\n",
       "             importance_type=None, interaction_constraints='',\n",
       "             learning_rate=0.300000012, max_bin=256, max_cat_to_onehot=4,\n",
       "             max_delta_step=0, max_depth=6, max_leaves=0, min_child_weight=1,\n",
       "             missing=nan, monotone_constraints='()', n_estimators=100, n_jobs=0,\n",
       "             num_parallel_tree=1, predictor='auto', random_state=0, reg_alpha=0,\n",
       "             reg_lambda=1, ...)"
      ]
     },
     "execution_count": 34,
     "metadata": {},
     "output_type": "execute_result"
    }
   ],
   "source": [
    "#fit XGBRegessor data\n",
    "XGBR.fit(X_train, y_train)"
   ]
  },
  {
   "cell_type": "code",
   "execution_count": 35,
   "id": "2e6877c2",
   "metadata": {},
   "outputs": [],
   "source": [
    "#run XGBRegressor\n",
    "XGBRPredict = XGBR.predict(X_test)"
   ]
  },
  {
   "cell_type": "code",
   "execution_count": 36,
   "id": "1d84c229",
   "metadata": {},
   "outputs": [
    {
     "name": "stdout",
     "output_type": "stream",
     "text": [
      "r2 score:  -0.25693276190957204\n",
      "mean_sqrd_error:  47003.19610549549\n",
      "root_mean_squared error of:  216.80220502913593\n"
     ]
    }
   ],
   "source": [
    "#evaluate XGBRegressor model\n",
    "XGBRScore = r2_score(y_test, XGBRPredict)\n",
    "print('r2 score: ',XGBRScore)\n",
    "print('mean_sqrd_error: ',mean_squared_error(y_test,XGBRPredict))\n",
    "print('root_mean_squared error of: ',np.sqrt(mean_squared_error(y_test,XGBRPredict)))"
   ]
  },
  {
   "cell_type": "code",
   "execution_count": null,
   "id": "32061a67",
   "metadata": {},
   "outputs": [],
   "source": []
  }
 ],
 "metadata": {
  "kernelspec": {
   "display_name": "mlenv",
   "language": "python",
   "name": "mlenv"
  },
  "language_info": {
   "codemirror_mode": {
    "name": "ipython",
    "version": 3
   },
   "file_extension": ".py",
   "mimetype": "text/x-python",
   "name": "python",
   "nbconvert_exporter": "python",
   "pygments_lexer": "ipython3",
   "version": "3.7.13"
  }
 },
 "nbformat": 4,
 "nbformat_minor": 5
}
