{
 "cells": [
  {
   "cell_type": "code",
   "execution_count": 80,
   "id": "06db5f09",
   "metadata": {},
   "outputs": [],
   "source": [
    "# import dependencies\n",
    "import warnings\n",
    "warnings.filterwarnings('ignore')"
   ]
  },
  {
   "cell_type": "code",
   "execution_count": 81,
   "id": "2e4e70b7",
   "metadata": {},
   "outputs": [],
   "source": [
    "import numpy as np\n",
    "import pandas as pd\n",
    "from pathlib import Path\n",
    "from collections import Counter\n",
    "from matplotlib import pyplot as plt"
   ]
  },
  {
   "cell_type": "code",
   "execution_count": 82,
   "id": "8efb5916",
   "metadata": {},
   "outputs": [],
   "source": [
    "from sklearn.preprocessing import LabelEncoder\n",
    "from sklearn import linear_model\n",
    "from sklearn.linear_model import LinearRegression\n",
    "from sklearn.ensemble import RandomForestRegressor\n",
    "from sklearn.datasets import make_regression\n",
    "from sklearn.model_selection import train_test_split\n",
    "from sklearn.metrics import r2_score\n",
    "from sklearn.metrics import mean_squared_error"
   ]
  },
  {
   "cell_type": "code",
   "execution_count": 83,
   "id": "d1ae985c",
   "metadata": {},
   "outputs": [
    {
     "data": {
      "text/html": [
       "<div>\n",
       "<style scoped>\n",
       "    .dataframe tbody tr th:only-of-type {\n",
       "        vertical-align: middle;\n",
       "    }\n",
       "\n",
       "    .dataframe tbody tr th {\n",
       "        vertical-align: top;\n",
       "    }\n",
       "\n",
       "    .dataframe thead th {\n",
       "        text-align: right;\n",
       "    }\n",
       "</style>\n",
       "<table border=\"1\" class=\"dataframe\">\n",
       "  <thead>\n",
       "    <tr style=\"text-align: right;\">\n",
       "      <th></th>\n",
       "      <th>Unnamed: 0</th>\n",
       "      <th>searchDate</th>\n",
       "      <th>flightDate</th>\n",
       "      <th>startingAirport</th>\n",
       "      <th>destinationAirport</th>\n",
       "      <th>travelDuration</th>\n",
       "      <th>isBasicEconomy</th>\n",
       "      <th>isRefundable</th>\n",
       "      <th>isNonStop</th>\n",
       "      <th>totalFare</th>\n",
       "      <th>totalTravelDistance</th>\n",
       "      <th>searchDaysBeforeFlight</th>\n",
       "    </tr>\n",
       "  </thead>\n",
       "  <tbody>\n",
       "    <tr>\n",
       "      <th>0</th>\n",
       "      <td>0</td>\n",
       "      <td>2022-09-28</td>\n",
       "      <td>2022-10-05</td>\n",
       "      <td>SFO</td>\n",
       "      <td>ORD</td>\n",
       "      <td>0 days 07:05:00</td>\n",
       "      <td>0</td>\n",
       "      <td>0</td>\n",
       "      <td>0</td>\n",
       "      <td>451.60</td>\n",
       "      <td>1933.0</td>\n",
       "      <td>7</td>\n",
       "    </tr>\n",
       "    <tr>\n",
       "      <th>1</th>\n",
       "      <td>1</td>\n",
       "      <td>2022-09-28</td>\n",
       "      <td>2022-10-05</td>\n",
       "      <td>SFO</td>\n",
       "      <td>ORD</td>\n",
       "      <td>0 days 07:52:00</td>\n",
       "      <td>0</td>\n",
       "      <td>0</td>\n",
       "      <td>0</td>\n",
       "      <td>451.60</td>\n",
       "      <td>1933.0</td>\n",
       "      <td>7</td>\n",
       "    </tr>\n",
       "    <tr>\n",
       "      <th>2</th>\n",
       "      <td>2</td>\n",
       "      <td>2022-09-28</td>\n",
       "      <td>2022-10-05</td>\n",
       "      <td>SFO</td>\n",
       "      <td>ORD</td>\n",
       "      <td>0 days 08:34:00</td>\n",
       "      <td>0</td>\n",
       "      <td>0</td>\n",
       "      <td>0</td>\n",
       "      <td>451.60</td>\n",
       "      <td>1933.0</td>\n",
       "      <td>7</td>\n",
       "    </tr>\n",
       "    <tr>\n",
       "      <th>3</th>\n",
       "      <td>3</td>\n",
       "      <td>2022-09-28</td>\n",
       "      <td>2022-10-05</td>\n",
       "      <td>SFO</td>\n",
       "      <td>PHL</td>\n",
       "      <td>0 days 07:49:00</td>\n",
       "      <td>0</td>\n",
       "      <td>0</td>\n",
       "      <td>0</td>\n",
       "      <td>103.99</td>\n",
       "      <td>2590.0</td>\n",
       "      <td>7</td>\n",
       "    </tr>\n",
       "    <tr>\n",
       "      <th>4</th>\n",
       "      <td>4</td>\n",
       "      <td>2022-09-28</td>\n",
       "      <td>2022-10-05</td>\n",
       "      <td>SFO</td>\n",
       "      <td>PHL</td>\n",
       "      <td>0 days 13:19:00</td>\n",
       "      <td>0</td>\n",
       "      <td>0</td>\n",
       "      <td>0</td>\n",
       "      <td>109.59</td>\n",
       "      <td>2590.0</td>\n",
       "      <td>7</td>\n",
       "    </tr>\n",
       "  </tbody>\n",
       "</table>\n",
       "</div>"
      ],
      "text/plain": [
       "   Unnamed: 0  searchDate  flightDate startingAirport destinationAirport  \\\n",
       "0           0  2022-09-28  2022-10-05             SFO                ORD   \n",
       "1           1  2022-09-28  2022-10-05             SFO                ORD   \n",
       "2           2  2022-09-28  2022-10-05             SFO                ORD   \n",
       "3           3  2022-09-28  2022-10-05             SFO                PHL   \n",
       "4           4  2022-09-28  2022-10-05             SFO                PHL   \n",
       "\n",
       "    travelDuration  isBasicEconomy  isRefundable  isNonStop  totalFare  \\\n",
       "0  0 days 07:05:00               0             0          0     451.60   \n",
       "1  0 days 07:52:00               0             0          0     451.60   \n",
       "2  0 days 08:34:00               0             0          0     451.60   \n",
       "3  0 days 07:49:00               0             0          0     103.99   \n",
       "4  0 days 13:19:00               0             0          0     109.59   \n",
       "\n",
       "   totalTravelDistance  searchDaysBeforeFlight  \n",
       "0               1933.0                       7  \n",
       "1               1933.0                       7  \n",
       "2               1933.0                       7  \n",
       "3               2590.0                       7  \n",
       "4               2590.0                       7  "
      ]
     },
     "execution_count": 83,
     "metadata": {},
     "output_type": "execute_result"
    }
   ],
   "source": [
    "# Load the data\n",
    "file_path = Path(\"../Resources/flight_data_clean_all.csv\")\n",
    "df = pd.read_csv(file_path, skiprows=0)[:-2]\n",
    "\n",
    "df.head()"
   ]
  },
  {
   "cell_type": "code",
   "execution_count": 84,
   "id": "494e28da",
   "metadata": {},
   "outputs": [
    {
     "data": {
      "text/html": [
       "<div>\n",
       "<style scoped>\n",
       "    .dataframe tbody tr th:only-of-type {\n",
       "        vertical-align: middle;\n",
       "    }\n",
       "\n",
       "    .dataframe tbody tr th {\n",
       "        vertical-align: top;\n",
       "    }\n",
       "\n",
       "    .dataframe thead th {\n",
       "        text-align: right;\n",
       "    }\n",
       "</style>\n",
       "<table border=\"1\" class=\"dataframe\">\n",
       "  <thead>\n",
       "    <tr style=\"text-align: right;\">\n",
       "      <th></th>\n",
       "      <th>flightDate</th>\n",
       "      <th>startingAirport</th>\n",
       "      <th>destinationAirport</th>\n",
       "      <th>travelDuration</th>\n",
       "      <th>isBasicEconomy</th>\n",
       "      <th>isRefundable</th>\n",
       "      <th>isNonStop</th>\n",
       "      <th>totalFare</th>\n",
       "      <th>totalTravelDistance</th>\n",
       "      <th>searchDaysBeforeFlight</th>\n",
       "    </tr>\n",
       "  </thead>\n",
       "  <tbody>\n",
       "    <tr>\n",
       "      <th>0</th>\n",
       "      <td>2022-10-05</td>\n",
       "      <td>SFO</td>\n",
       "      <td>ORD</td>\n",
       "      <td>0 days 07:05:00</td>\n",
       "      <td>0</td>\n",
       "      <td>0</td>\n",
       "      <td>0</td>\n",
       "      <td>451.60</td>\n",
       "      <td>1933.0</td>\n",
       "      <td>7</td>\n",
       "    </tr>\n",
       "    <tr>\n",
       "      <th>1</th>\n",
       "      <td>2022-10-05</td>\n",
       "      <td>SFO</td>\n",
       "      <td>ORD</td>\n",
       "      <td>0 days 07:52:00</td>\n",
       "      <td>0</td>\n",
       "      <td>0</td>\n",
       "      <td>0</td>\n",
       "      <td>451.60</td>\n",
       "      <td>1933.0</td>\n",
       "      <td>7</td>\n",
       "    </tr>\n",
       "    <tr>\n",
       "      <th>2</th>\n",
       "      <td>2022-10-05</td>\n",
       "      <td>SFO</td>\n",
       "      <td>ORD</td>\n",
       "      <td>0 days 08:34:00</td>\n",
       "      <td>0</td>\n",
       "      <td>0</td>\n",
       "      <td>0</td>\n",
       "      <td>451.60</td>\n",
       "      <td>1933.0</td>\n",
       "      <td>7</td>\n",
       "    </tr>\n",
       "    <tr>\n",
       "      <th>3</th>\n",
       "      <td>2022-10-05</td>\n",
       "      <td>SFO</td>\n",
       "      <td>PHL</td>\n",
       "      <td>0 days 07:49:00</td>\n",
       "      <td>0</td>\n",
       "      <td>0</td>\n",
       "      <td>0</td>\n",
       "      <td>103.99</td>\n",
       "      <td>2590.0</td>\n",
       "      <td>7</td>\n",
       "    </tr>\n",
       "    <tr>\n",
       "      <th>4</th>\n",
       "      <td>2022-10-05</td>\n",
       "      <td>SFO</td>\n",
       "      <td>PHL</td>\n",
       "      <td>0 days 13:19:00</td>\n",
       "      <td>0</td>\n",
       "      <td>0</td>\n",
       "      <td>0</td>\n",
       "      <td>109.59</td>\n",
       "      <td>2590.0</td>\n",
       "      <td>7</td>\n",
       "    </tr>\n",
       "  </tbody>\n",
       "</table>\n",
       "</div>"
      ],
      "text/plain": [
       "   flightDate startingAirport destinationAirport   travelDuration  \\\n",
       "0  2022-10-05             SFO                ORD  0 days 07:05:00   \n",
       "1  2022-10-05             SFO                ORD  0 days 07:52:00   \n",
       "2  2022-10-05             SFO                ORD  0 days 08:34:00   \n",
       "3  2022-10-05             SFO                PHL  0 days 07:49:00   \n",
       "4  2022-10-05             SFO                PHL  0 days 13:19:00   \n",
       "\n",
       "   isBasicEconomy  isRefundable  isNonStop  totalFare  totalTravelDistance  \\\n",
       "0               0             0          0     451.60               1933.0   \n",
       "1               0             0          0     451.60               1933.0   \n",
       "2               0             0          0     451.60               1933.0   \n",
       "3               0             0          0     103.99               2590.0   \n",
       "4               0             0          0     109.59               2590.0   \n",
       "\n",
       "   searchDaysBeforeFlight  \n",
       "0                       7  \n",
       "1                       7  \n",
       "2                       7  \n",
       "3                       7  \n",
       "4                       7  "
      ]
     },
     "execution_count": 84,
     "metadata": {},
     "output_type": "execute_result"
    }
   ],
   "source": [
    "#drop first two columns\n",
    "df = df.iloc[: , 2:]\n",
    "df.head()"
   ]
  },
  {
   "cell_type": "code",
   "execution_count": 85,
   "id": "e40fd702",
   "metadata": {},
   "outputs": [
    {
     "data": {
      "text/plain": [
       "flightDate                     0\n",
       "startingAirport                0\n",
       "destinationAirport             0\n",
       "travelDuration                 0\n",
       "isBasicEconomy                 0\n",
       "isRefundable                   0\n",
       "isNonStop                      0\n",
       "totalFare                      0\n",
       "totalTravelDistance       116321\n",
       "searchDaysBeforeFlight         0\n",
       "dtype: int64"
      ]
     },
     "execution_count": 85,
     "metadata": {},
     "output_type": "execute_result"
    }
   ],
   "source": [
    "#check for null values\n",
    "df.isna().sum()"
   ]
  },
  {
   "cell_type": "code",
   "execution_count": 86,
   "id": "ef9bc91f",
   "metadata": {},
   "outputs": [
    {
     "data": {
      "text/plain": [
       "flightDate                0\n",
       "startingAirport           0\n",
       "destinationAirport        0\n",
       "travelDuration            0\n",
       "isBasicEconomy            0\n",
       "isRefundable              0\n",
       "isNonStop                 0\n",
       "totalFare                 0\n",
       "totalTravelDistance       0\n",
       "searchDaysBeforeFlight    0\n",
       "dtype: int64"
      ]
     },
     "execution_count": 86,
     "metadata": {},
     "output_type": "execute_result"
    }
   ],
   "source": [
    "#drop null values. still have over 1.5 million rows of data.\n",
    "df = df.dropna()\n",
    "df.isna().sum()"
   ]
  },
  {
   "cell_type": "code",
   "execution_count": 87,
   "id": "f24e9c13",
   "metadata": {},
   "outputs": [
    {
     "data": {
      "text/plain": [
       "flightDate                 object\n",
       "startingAirport            object\n",
       "destinationAirport         object\n",
       "travelDuration             object\n",
       "isBasicEconomy              int64\n",
       "isRefundable                int64\n",
       "isNonStop                   int64\n",
       "totalFare                 float64\n",
       "totalTravelDistance       float64\n",
       "searchDaysBeforeFlight      int64\n",
       "dtype: object"
      ]
     },
     "execution_count": 87,
     "metadata": {},
     "output_type": "execute_result"
    }
   ],
   "source": [
    "# check df datatypes\n",
    "df.dtypes"
   ]
  },
  {
   "cell_type": "code",
   "execution_count": 88,
   "id": "487d51f0",
   "metadata": {},
   "outputs": [],
   "source": [
    "# start new df and encode startingAirport and endingAirport\n",
    "le = LabelEncoder()\n",
    "df2 = df.copy()\n",
    "df2['startingAirport'] = le.fit_transform(df2['startingAirport'])\n",
    "df2['destinationAirport'] = le.fit_transform(df2['destinationAirport'])"
   ]
  },
  {
   "cell_type": "code",
   "execution_count": 89,
   "id": "c6b5065d",
   "metadata": {},
   "outputs": [
    {
     "data": {
      "text/html": [
       "<div>\n",
       "<style scoped>\n",
       "    .dataframe tbody tr th:only-of-type {\n",
       "        vertical-align: middle;\n",
       "    }\n",
       "\n",
       "    .dataframe tbody tr th {\n",
       "        vertical-align: top;\n",
       "    }\n",
       "\n",
       "    .dataframe thead th {\n",
       "        text-align: right;\n",
       "    }\n",
       "</style>\n",
       "<table border=\"1\" class=\"dataframe\">\n",
       "  <thead>\n",
       "    <tr style=\"text-align: right;\">\n",
       "      <th></th>\n",
       "      <th>flightDate</th>\n",
       "      <th>startingAirport</th>\n",
       "      <th>destinationAirport</th>\n",
       "      <th>isBasicEconomy</th>\n",
       "      <th>isRefundable</th>\n",
       "      <th>isNonStop</th>\n",
       "      <th>totalFare</th>\n",
       "      <th>totalTravelDistance</th>\n",
       "      <th>searchDaysBeforeFlight</th>\n",
       "      <th>travelDurationFinal</th>\n",
       "    </tr>\n",
       "  </thead>\n",
       "  <tbody>\n",
       "    <tr>\n",
       "      <th>0</th>\n",
       "      <td>2022-10-05</td>\n",
       "      <td>15</td>\n",
       "      <td>13</td>\n",
       "      <td>0</td>\n",
       "      <td>0</td>\n",
       "      <td>0</td>\n",
       "      <td>451.60</td>\n",
       "      <td>1933.0</td>\n",
       "      <td>7</td>\n",
       "      <td>425</td>\n",
       "    </tr>\n",
       "    <tr>\n",
       "      <th>1</th>\n",
       "      <td>2022-10-05</td>\n",
       "      <td>15</td>\n",
       "      <td>13</td>\n",
       "      <td>0</td>\n",
       "      <td>0</td>\n",
       "      <td>0</td>\n",
       "      <td>451.60</td>\n",
       "      <td>1933.0</td>\n",
       "      <td>7</td>\n",
       "      <td>472</td>\n",
       "    </tr>\n",
       "    <tr>\n",
       "      <th>2</th>\n",
       "      <td>2022-10-05</td>\n",
       "      <td>15</td>\n",
       "      <td>13</td>\n",
       "      <td>0</td>\n",
       "      <td>0</td>\n",
       "      <td>0</td>\n",
       "      <td>451.60</td>\n",
       "      <td>1933.0</td>\n",
       "      <td>7</td>\n",
       "      <td>514</td>\n",
       "    </tr>\n",
       "    <tr>\n",
       "      <th>3</th>\n",
       "      <td>2022-10-05</td>\n",
       "      <td>15</td>\n",
       "      <td>14</td>\n",
       "      <td>0</td>\n",
       "      <td>0</td>\n",
       "      <td>0</td>\n",
       "      <td>103.99</td>\n",
       "      <td>2590.0</td>\n",
       "      <td>7</td>\n",
       "      <td>469</td>\n",
       "    </tr>\n",
       "    <tr>\n",
       "      <th>4</th>\n",
       "      <td>2022-10-05</td>\n",
       "      <td>15</td>\n",
       "      <td>14</td>\n",
       "      <td>0</td>\n",
       "      <td>0</td>\n",
       "      <td>0</td>\n",
       "      <td>109.59</td>\n",
       "      <td>2590.0</td>\n",
       "      <td>7</td>\n",
       "      <td>799</td>\n",
       "    </tr>\n",
       "  </tbody>\n",
       "</table>\n",
       "</div>"
      ],
      "text/plain": [
       "   flightDate  startingAirport  destinationAirport  isBasicEconomy  \\\n",
       "0  2022-10-05               15                  13               0   \n",
       "1  2022-10-05               15                  13               0   \n",
       "2  2022-10-05               15                  13               0   \n",
       "3  2022-10-05               15                  14               0   \n",
       "4  2022-10-05               15                  14               0   \n",
       "\n",
       "   isRefundable  isNonStop  totalFare  totalTravelDistance  \\\n",
       "0             0          0     451.60               1933.0   \n",
       "1             0          0     451.60               1933.0   \n",
       "2             0          0     451.60               1933.0   \n",
       "3             0          0     103.99               2590.0   \n",
       "4             0          0     109.59               2590.0   \n",
       "\n",
       "   searchDaysBeforeFlight  travelDurationFinal  \n",
       "0                       7                  425  \n",
       "1                       7                  472  \n",
       "2                       7                  514  \n",
       "3                       7                  469  \n",
       "4                       7                  799  "
      ]
     },
     "execution_count": 89,
     "metadata": {},
     "output_type": "execute_result"
    }
   ],
   "source": [
    "#convert travelDuration to minutes\n",
    "df2['travelDurationDays'] = pd.to_numeric(df2['travelDuration'].str.slice(0,1))\n",
    "df2['travelDurationHours'] = pd.to_numeric(df2['travelDuration'].str.slice(7,9))\n",
    "df2['travelDurationMinutes'] = pd.to_numeric(df2['travelDuration'].str.slice(10,12))\n",
    "df2['travelDurationFinal'] = ((df2['travelDurationDays']*1440)+(df2['travelDurationHours']*60)+(df2['travelDurationMinutes']))\n",
    "df2 = df2.drop(columns=['travelDurationDays','travelDurationHours','travelDurationMinutes','travelDuration'])\n",
    "df2.head()"
   ]
  },
  {
   "cell_type": "code",
   "execution_count": 90,
   "id": "91899a21",
   "metadata": {},
   "outputs": [
    {
     "data": {
      "text/plain": [
       "flightDate                float64\n",
       "startingAirport             int32\n",
       "destinationAirport          int32\n",
       "isBasicEconomy              int64\n",
       "isRefundable                int64\n",
       "isNonStop                   int64\n",
       "totalFare                 float64\n",
       "totalTravelDistance       float64\n",
       "searchDaysBeforeFlight      int64\n",
       "travelDurationFinal         int64\n",
       "dtype: object"
      ]
     },
     "execution_count": 90,
     "metadata": {},
     "output_type": "execute_result"
    }
   ],
   "source": [
    "# convert flight date to number format\n",
    "df2['flightDate'] = pd.to_datetime(df['flightDate']).astype('int64')/ 10**9\n",
    "df2.dtypes"
   ]
  },
  {
   "cell_type": "code",
   "execution_count": 124,
   "id": "e2a599b2",
   "metadata": {},
   "outputs": [],
   "source": [
    "# Creating the scaler instance\n",
    "from sklearn.preprocessing import StandardScaler\n",
    "data_scaler = StandardScaler()\n",
    "X = pd.DataFrame(data_scaler.fit_transform(df2.drop([\"totalFare\"],axis = 1),),columns=['flightDate','startingAirport','destinationAirport',\n",
    "                                                                                      'isBasicEconomy','isRefundable','isNonStop','totalTravelDistance',\n",
    "                                                                                      'searchDaysBeforeFlight','travelDurationFinal'])\n",
    "y = df2[\"totalFare\"]"
   ]
  },
  {
   "cell_type": "code",
   "execution_count": 125,
   "id": "aa549f30",
   "metadata": {},
   "outputs": [
    {
     "data": {
      "text/html": [
       "<div>\n",
       "<style scoped>\n",
       "    .dataframe tbody tr th:only-of-type {\n",
       "        vertical-align: middle;\n",
       "    }\n",
       "\n",
       "    .dataframe tbody tr th {\n",
       "        vertical-align: top;\n",
       "    }\n",
       "\n",
       "    .dataframe thead th {\n",
       "        text-align: right;\n",
       "    }\n",
       "</style>\n",
       "<table border=\"1\" class=\"dataframe\">\n",
       "  <thead>\n",
       "    <tr style=\"text-align: right;\">\n",
       "      <th></th>\n",
       "      <th>flightDate</th>\n",
       "      <th>startingAirport</th>\n",
       "      <th>destinationAirport</th>\n",
       "      <th>isBasicEconomy</th>\n",
       "      <th>isRefundable</th>\n",
       "      <th>isNonStop</th>\n",
       "      <th>totalTravelDistance</th>\n",
       "      <th>searchDaysBeforeFlight</th>\n",
       "      <th>travelDurationFinal</th>\n",
       "    </tr>\n",
       "  </thead>\n",
       "  <tbody>\n",
       "    <tr>\n",
       "      <th>0</th>\n",
       "      <td>-1.419998</td>\n",
       "      <td>1.59102</td>\n",
       "      <td>1.164061</td>\n",
       "      <td>-0.633786</td>\n",
       "      <td>-0.002212</td>\n",
       "      <td>-0.589664</td>\n",
       "      <td>0.311568</td>\n",
       "      <td>-1.287976</td>\n",
       "      <td>-0.030198</td>\n",
       "    </tr>\n",
       "    <tr>\n",
       "      <th>1</th>\n",
       "      <td>-1.419998</td>\n",
       "      <td>1.59102</td>\n",
       "      <td>1.164061</td>\n",
       "      <td>-0.633786</td>\n",
       "      <td>-0.002212</td>\n",
       "      <td>-0.589664</td>\n",
       "      <td>0.311568</td>\n",
       "      <td>-1.287976</td>\n",
       "      <td>0.174699</td>\n",
       "    </tr>\n",
       "    <tr>\n",
       "      <th>2</th>\n",
       "      <td>-1.419998</td>\n",
       "      <td>1.59102</td>\n",
       "      <td>1.164061</td>\n",
       "      <td>-0.633786</td>\n",
       "      <td>-0.002212</td>\n",
       "      <td>-0.589664</td>\n",
       "      <td>0.311568</td>\n",
       "      <td>-1.287976</td>\n",
       "      <td>0.357799</td>\n",
       "    </tr>\n",
       "    <tr>\n",
       "      <th>3</th>\n",
       "      <td>-1.419998</td>\n",
       "      <td>1.59102</td>\n",
       "      <td>1.376512</td>\n",
       "      <td>-0.633786</td>\n",
       "      <td>-0.002212</td>\n",
       "      <td>-0.589664</td>\n",
       "      <td>1.050252</td>\n",
       "      <td>-1.287976</td>\n",
       "      <td>0.161620</td>\n",
       "    </tr>\n",
       "    <tr>\n",
       "      <th>4</th>\n",
       "      <td>-1.419998</td>\n",
       "      <td>1.59102</td>\n",
       "      <td>1.376512</td>\n",
       "      <td>-0.633786</td>\n",
       "      <td>-0.002212</td>\n",
       "      <td>-0.589664</td>\n",
       "      <td>1.050252</td>\n",
       "      <td>-1.287976</td>\n",
       "      <td>1.600261</td>\n",
       "    </tr>\n",
       "  </tbody>\n",
       "</table>\n",
       "</div>"
      ],
      "text/plain": [
       "   flightDate  startingAirport  destinationAirport  isBasicEconomy  \\\n",
       "0   -1.419998          1.59102            1.164061       -0.633786   \n",
       "1   -1.419998          1.59102            1.164061       -0.633786   \n",
       "2   -1.419998          1.59102            1.164061       -0.633786   \n",
       "3   -1.419998          1.59102            1.376512       -0.633786   \n",
       "4   -1.419998          1.59102            1.376512       -0.633786   \n",
       "\n",
       "   isRefundable  isNonStop  totalTravelDistance  searchDaysBeforeFlight  \\\n",
       "0     -0.002212  -0.589664             0.311568               -1.287976   \n",
       "1     -0.002212  -0.589664             0.311568               -1.287976   \n",
       "2     -0.002212  -0.589664             0.311568               -1.287976   \n",
       "3     -0.002212  -0.589664             1.050252               -1.287976   \n",
       "4     -0.002212  -0.589664             1.050252               -1.287976   \n",
       "\n",
       "   travelDurationFinal  \n",
       "0            -0.030198  \n",
       "1             0.174699  \n",
       "2             0.357799  \n",
       "3             0.161620  \n",
       "4             1.600261  "
      ]
     },
     "execution_count": 125,
     "metadata": {},
     "output_type": "execute_result"
    }
   ],
   "source": [
    "X.head()"
   ]
  },
  {
   "cell_type": "code",
   "execution_count": 126,
   "id": "1a45758c",
   "metadata": {},
   "outputs": [],
   "source": [
    "# Create our features\n",
    "#X = df2.copy()\n",
    "#X = X.drop(\"totalFare\", axis=1)\n",
    "\n",
    "# Create our target\n",
    "#y = df2[\"totalFare\"]"
   ]
  },
  {
   "cell_type": "code",
   "execution_count": 127,
   "id": "68debcb2",
   "metadata": {},
   "outputs": [
    {
     "data": {
      "text/plain": [
       "(1226787, 9)"
      ]
     },
     "execution_count": 127,
     "metadata": {},
     "output_type": "execute_result"
    }
   ],
   "source": [
    "#split data into training and testing\n",
    "X_train, X_test, y_train, y_test = train_test_split(X, \n",
    "                                                    y, \n",
    "                                                    random_state=1)\n",
    "X_train.shape "
   ]
  },
  {
   "cell_type": "code",
   "execution_count": 128,
   "id": "b85e8d76",
   "metadata": {},
   "outputs": [
    {
     "data": {
      "text/plain": [
       "LinearRegression()"
      ]
     },
     "execution_count": 128,
     "metadata": {},
     "output_type": "execute_result"
    }
   ],
   "source": [
    "# fit a linear regression model\n",
    "regr = LinearRegression()\n",
    "regr.fit(X_train, y_train) "
   ]
  },
  {
   "cell_type": "code",
   "execution_count": 129,
   "id": "e8ba919a",
   "metadata": {},
   "outputs": [
    {
     "data": {
      "text/plain": [
       "array([193.13987793, 303.82128748, 337.4056246 , ...,  90.72735578,\n",
       "       408.1134495 , 163.03407059])"
      ]
     },
     "execution_count": 129,
     "metadata": {},
     "output_type": "execute_result"
    }
   ],
   "source": [
    "#predict flight costs\n",
    "y_prediction = regr.predict(X_test)\n",
    "y_prediction"
   ]
  },
  {
   "cell_type": "code",
   "execution_count": 130,
   "id": "249e707c",
   "metadata": {},
   "outputs": [
    {
     "name": "stdout",
     "output_type": "stream",
     "text": [
      "r2 score:  0.4250553525214895\n",
      "mean_sqrd_error:  21500.144505885364\n",
      "root_mean_squared error of:  146.62927574630302\n"
     ]
    }
   ],
   "source": [
    "# evaluate linear regression model\n",
    "score = r2_score(y_test,y_prediction)\n",
    "print('r2 score: ',score)\n",
    "print('mean_sqrd_error: ',mean_squared_error(y_test,y_prediction))\n",
    "print('root_mean_squared error of: ',np.sqrt(mean_squared_error(y_test,y_prediction)))"
   ]
  },
  {
   "cell_type": "code",
   "execution_count": 123,
   "id": "a16276a2",
   "metadata": {},
   "outputs": [
    {
     "ename": "AttributeError",
     "evalue": "'LinearRegression' object has no attribute 'feature_importances_'",
     "output_type": "error",
     "traceback": [
      "\u001b[1;31m---------------------------------------------------------------------------\u001b[0m",
      "\u001b[1;31mAttributeError\u001b[0m                            Traceback (most recent call last)",
      "\u001b[1;32m~\\AppData\\Local\\Temp\\ipykernel_17212\\3300054125.py\u001b[0m in \u001b[0;36m<module>\u001b[1;34m\u001b[0m\n\u001b[1;32m----> 1\u001b[1;33m \u001b[0mregr\u001b[0m\u001b[1;33m.\u001b[0m\u001b[0mfeature_importances_\u001b[0m\u001b[1;33m\u001b[0m\u001b[1;33m\u001b[0m\u001b[0m\n\u001b[0m",
      "\u001b[1;31mAttributeError\u001b[0m: 'LinearRegression' object has no attribute 'feature_importances_'"
     ]
    }
   ],
   "source": [
    "regr.feature_importances_"
   ]
  },
  {
   "cell_type": "code",
   "execution_count": 131,
   "id": "99b9bd05",
   "metadata": {},
   "outputs": [],
   "source": [
    "#initialize random forest regressor model\n",
    "X_train, y_train = make_regression(n_features=9)\n",
    "forestRegr = RandomForestRegressor(max_depth=None, random_state=0)"
   ]
  },
  {
   "cell_type": "code",
   "execution_count": 132,
   "id": "70539626",
   "metadata": {},
   "outputs": [
    {
     "data": {
      "text/plain": [
       "RandomForestRegressor(random_state=0)"
      ]
     },
     "execution_count": 132,
     "metadata": {},
     "output_type": "execute_result"
    }
   ],
   "source": [
    "#fit random forest regessor data\n",
    "forestRegr.fit(X_train, y_train)"
   ]
  },
  {
   "cell_type": "code",
   "execution_count": 133,
   "id": "4d59b8ef",
   "metadata": {},
   "outputs": [
    {
     "data": {
      "text/plain": [
       "array([-111.58592722,  113.88523658, -188.58500013, ..., -154.80900785,\n",
       "         86.22779986, -128.77174266])"
      ]
     },
     "execution_count": 133,
     "metadata": {},
     "output_type": "execute_result"
    }
   ],
   "source": [
    "#run random forest regressor model\n",
    "forestPredict = forestRegr.predict(X_test)\n",
    "forestPredict"
   ]
  },
  {
   "cell_type": "code",
   "execution_count": 134,
   "id": "7a2edde3",
   "metadata": {},
   "outputs": [
    {
     "name": "stdout",
     "output_type": "stream",
     "text": [
      "r2 score:  -3.615607094254454\n",
      "mean_sqrd_error:  172601.34509308485\n",
      "root_mean_squared error of:  415.453180386292\n"
     ]
    }
   ],
   "source": [
    "#evaluate random forest regressor model\n",
    "forestScore = r2_score(y_test, forestPredict)\n",
    "print('r2 score: ',forestScore)\n",
    "print('mean_sqrd_error: ',mean_squared_error(y_test,forestPredict))\n",
    "print('root_mean_squared error of: ',np.sqrt(mean_squared_error(y_test,forestPredict)))"
   ]
  },
  {
   "cell_type": "code",
   "execution_count": 121,
   "id": "29e46d5e",
   "metadata": {},
   "outputs": [
    {
     "data": {
      "text/plain": [
       "array([0.23576096, 0.21515217, 0.02450596, 0.02241565, 0.23615077,\n",
       "       0.04968442, 0.15185482, 0.03340164, 0.03107362])"
      ]
     },
     "execution_count": 121,
     "metadata": {},
     "output_type": "execute_result"
    }
   ],
   "source": [
    "forestRegr.feature_importances_"
   ]
  },
  {
   "cell_type": "code",
   "execution_count": 52,
   "id": "e65d977b",
   "metadata": {},
   "outputs": [
    {
     "ename": "ValueError",
     "evalue": "shape mismatch: objects cannot be broadcast to a single shape",
     "output_type": "error",
     "traceback": [
      "\u001b[1;31m---------------------------------------------------------------------------\u001b[0m",
      "\u001b[1;31mValueError\u001b[0m                                Traceback (most recent call last)",
      "\u001b[1;32m~\\AppData\\Local\\Temp\\ipykernel_17212\\1760617199.py\u001b[0m in \u001b[0;36m<module>\u001b[1;34m\u001b[0m\n\u001b[1;32m----> 1\u001b[1;33m \u001b[0mplt\u001b[0m\u001b[1;33m.\u001b[0m\u001b[0mbarh\u001b[0m\u001b[1;33m(\u001b[0m\u001b[0mforestRegr\u001b[0m\u001b[1;33m,\u001b[0m \u001b[0mforestRegr\u001b[0m\u001b[1;33m.\u001b[0m\u001b[0mfeature_importances_\u001b[0m\u001b[1;33m)\u001b[0m\u001b[1;33m\u001b[0m\u001b[1;33m\u001b[0m\u001b[0m\n\u001b[0m",
      "\u001b[1;32m~\\anaconda3\\envs\\mlenv\\lib\\site-packages\\matplotlib\\pyplot.py\u001b[0m in \u001b[0;36mbarh\u001b[1;34m(y, width, height, left, align, **kwargs)\u001b[0m\n\u001b[0;32m   2414\u001b[0m \u001b[1;32mdef\u001b[0m \u001b[0mbarh\u001b[0m\u001b[1;33m(\u001b[0m\u001b[0my\u001b[0m\u001b[1;33m,\u001b[0m \u001b[0mwidth\u001b[0m\u001b[1;33m,\u001b[0m \u001b[0mheight\u001b[0m\u001b[1;33m=\u001b[0m\u001b[1;36m0.8\u001b[0m\u001b[1;33m,\u001b[0m \u001b[0mleft\u001b[0m\u001b[1;33m=\u001b[0m\u001b[1;32mNone\u001b[0m\u001b[1;33m,\u001b[0m \u001b[1;33m*\u001b[0m\u001b[1;33m,\u001b[0m \u001b[0malign\u001b[0m\u001b[1;33m=\u001b[0m\u001b[1;34m'center'\u001b[0m\u001b[1;33m,\u001b[0m \u001b[1;33m**\u001b[0m\u001b[0mkwargs\u001b[0m\u001b[1;33m)\u001b[0m\u001b[1;33m:\u001b[0m\u001b[1;33m\u001b[0m\u001b[1;33m\u001b[0m\u001b[0m\n\u001b[0;32m   2415\u001b[0m     return gca().barh(\n\u001b[1;32m-> 2416\u001b[1;33m         y, width, height=height, left=left, align=align, **kwargs)\n\u001b[0m\u001b[0;32m   2417\u001b[0m \u001b[1;33m\u001b[0m\u001b[0m\n\u001b[0;32m   2418\u001b[0m \u001b[1;33m\u001b[0m\u001b[0m\n",
      "\u001b[1;32m~\\anaconda3\\envs\\mlenv\\lib\\site-packages\\matplotlib\\axes\\_axes.py\u001b[0m in \u001b[0;36mbarh\u001b[1;34m(self, y, width, height, left, align, **kwargs)\u001b[0m\n\u001b[0;32m   2550\u001b[0m         \u001b[0mkwargs\u001b[0m\u001b[1;33m.\u001b[0m\u001b[0msetdefault\u001b[0m\u001b[1;33m(\u001b[0m\u001b[1;34m'orientation'\u001b[0m\u001b[1;33m,\u001b[0m \u001b[1;34m'horizontal'\u001b[0m\u001b[1;33m)\u001b[0m\u001b[1;33m\u001b[0m\u001b[1;33m\u001b[0m\u001b[0m\n\u001b[0;32m   2551\u001b[0m         patches = self.bar(x=left, height=height, width=width, bottom=y,\n\u001b[1;32m-> 2552\u001b[1;33m                            align=align, **kwargs)\n\u001b[0m\u001b[0;32m   2553\u001b[0m         \u001b[1;32mreturn\u001b[0m \u001b[0mpatches\u001b[0m\u001b[1;33m\u001b[0m\u001b[1;33m\u001b[0m\u001b[0m\n\u001b[0;32m   2554\u001b[0m \u001b[1;33m\u001b[0m\u001b[0m\n",
      "\u001b[1;32m~\\anaconda3\\envs\\mlenv\\lib\\site-packages\\matplotlib\\__init__.py\u001b[0m in \u001b[0;36minner\u001b[1;34m(ax, data, *args, **kwargs)\u001b[0m\n\u001b[0;32m   1410\u001b[0m     \u001b[1;32mdef\u001b[0m \u001b[0minner\u001b[0m\u001b[1;33m(\u001b[0m\u001b[0max\u001b[0m\u001b[1;33m,\u001b[0m \u001b[1;33m*\u001b[0m\u001b[0margs\u001b[0m\u001b[1;33m,\u001b[0m \u001b[0mdata\u001b[0m\u001b[1;33m=\u001b[0m\u001b[1;32mNone\u001b[0m\u001b[1;33m,\u001b[0m \u001b[1;33m**\u001b[0m\u001b[0mkwargs\u001b[0m\u001b[1;33m)\u001b[0m\u001b[1;33m:\u001b[0m\u001b[1;33m\u001b[0m\u001b[1;33m\u001b[0m\u001b[0m\n\u001b[0;32m   1411\u001b[0m         \u001b[1;32mif\u001b[0m \u001b[0mdata\u001b[0m \u001b[1;32mis\u001b[0m \u001b[1;32mNone\u001b[0m\u001b[1;33m:\u001b[0m\u001b[1;33m\u001b[0m\u001b[1;33m\u001b[0m\u001b[0m\n\u001b[1;32m-> 1412\u001b[1;33m             \u001b[1;32mreturn\u001b[0m \u001b[0mfunc\u001b[0m\u001b[1;33m(\u001b[0m\u001b[0max\u001b[0m\u001b[1;33m,\u001b[0m \u001b[1;33m*\u001b[0m\u001b[0mmap\u001b[0m\u001b[1;33m(\u001b[0m\u001b[0msanitize_sequence\u001b[0m\u001b[1;33m,\u001b[0m \u001b[0margs\u001b[0m\u001b[1;33m)\u001b[0m\u001b[1;33m,\u001b[0m \u001b[1;33m**\u001b[0m\u001b[0mkwargs\u001b[0m\u001b[1;33m)\u001b[0m\u001b[1;33m\u001b[0m\u001b[1;33m\u001b[0m\u001b[0m\n\u001b[0m\u001b[0;32m   1413\u001b[0m \u001b[1;33m\u001b[0m\u001b[0m\n\u001b[0;32m   1414\u001b[0m         \u001b[0mbound\u001b[0m \u001b[1;33m=\u001b[0m \u001b[0mnew_sig\u001b[0m\u001b[1;33m.\u001b[0m\u001b[0mbind\u001b[0m\u001b[1;33m(\u001b[0m\u001b[0max\u001b[0m\u001b[1;33m,\u001b[0m \u001b[1;33m*\u001b[0m\u001b[0margs\u001b[0m\u001b[1;33m,\u001b[0m \u001b[1;33m**\u001b[0m\u001b[0mkwargs\u001b[0m\u001b[1;33m)\u001b[0m\u001b[1;33m\u001b[0m\u001b[1;33m\u001b[0m\u001b[0m\n",
      "\u001b[1;32m~\\anaconda3\\envs\\mlenv\\lib\\site-packages\\matplotlib\\axes\\_axes.py\u001b[0m in \u001b[0;36mbar\u001b[1;34m(self, x, height, width, bottom, align, **kwargs)\u001b[0m\n\u001b[0;32m   2342\u001b[0m         x, height, width, y, linewidth, hatch = np.broadcast_arrays(\n\u001b[0;32m   2343\u001b[0m             \u001b[1;31m# Make args iterable too.\u001b[0m\u001b[1;33m\u001b[0m\u001b[1;33m\u001b[0m\u001b[1;33m\u001b[0m\u001b[0m\n\u001b[1;32m-> 2344\u001b[1;33m             np.atleast_1d(x), height, width, y, linewidth, hatch)\n\u001b[0m\u001b[0;32m   2345\u001b[0m \u001b[1;33m\u001b[0m\u001b[0m\n\u001b[0;32m   2346\u001b[0m         \u001b[1;31m# Now that units have been converted, set the tick locations.\u001b[0m\u001b[1;33m\u001b[0m\u001b[1;33m\u001b[0m\u001b[1;33m\u001b[0m\u001b[0m\n",
      "\u001b[1;32m<__array_function__ internals>\u001b[0m in \u001b[0;36mbroadcast_arrays\u001b[1;34m(*args, **kwargs)\u001b[0m\n",
      "\u001b[1;32m~\\anaconda3\\envs\\mlenv\\lib\\site-packages\\numpy\\lib\\stride_tricks.py\u001b[0m in \u001b[0;36mbroadcast_arrays\u001b[1;34m(subok, *args)\u001b[0m\n\u001b[0;32m    536\u001b[0m     \u001b[0margs\u001b[0m \u001b[1;33m=\u001b[0m \u001b[1;33m[\u001b[0m\u001b[0mnp\u001b[0m\u001b[1;33m.\u001b[0m\u001b[0marray\u001b[0m\u001b[1;33m(\u001b[0m\u001b[0m_m\u001b[0m\u001b[1;33m,\u001b[0m \u001b[0mcopy\u001b[0m\u001b[1;33m=\u001b[0m\u001b[1;32mFalse\u001b[0m\u001b[1;33m,\u001b[0m \u001b[0msubok\u001b[0m\u001b[1;33m=\u001b[0m\u001b[0msubok\u001b[0m\u001b[1;33m)\u001b[0m \u001b[1;32mfor\u001b[0m \u001b[0m_m\u001b[0m \u001b[1;32min\u001b[0m \u001b[0margs\u001b[0m\u001b[1;33m]\u001b[0m\u001b[1;33m\u001b[0m\u001b[1;33m\u001b[0m\u001b[0m\n\u001b[0;32m    537\u001b[0m \u001b[1;33m\u001b[0m\u001b[0m\n\u001b[1;32m--> 538\u001b[1;33m     \u001b[0mshape\u001b[0m \u001b[1;33m=\u001b[0m \u001b[0m_broadcast_shape\u001b[0m\u001b[1;33m(\u001b[0m\u001b[1;33m*\u001b[0m\u001b[0margs\u001b[0m\u001b[1;33m)\u001b[0m\u001b[1;33m\u001b[0m\u001b[1;33m\u001b[0m\u001b[0m\n\u001b[0m\u001b[0;32m    539\u001b[0m \u001b[1;33m\u001b[0m\u001b[0m\n\u001b[0;32m    540\u001b[0m     \u001b[1;32mif\u001b[0m \u001b[0mall\u001b[0m\u001b[1;33m(\u001b[0m\u001b[0marray\u001b[0m\u001b[1;33m.\u001b[0m\u001b[0mshape\u001b[0m \u001b[1;33m==\u001b[0m \u001b[0mshape\u001b[0m \u001b[1;32mfor\u001b[0m \u001b[0marray\u001b[0m \u001b[1;32min\u001b[0m \u001b[0margs\u001b[0m\u001b[1;33m)\u001b[0m\u001b[1;33m:\u001b[0m\u001b[1;33m\u001b[0m\u001b[1;33m\u001b[0m\u001b[0m\n",
      "\u001b[1;32m~\\anaconda3\\envs\\mlenv\\lib\\site-packages\\numpy\\lib\\stride_tricks.py\u001b[0m in \u001b[0;36m_broadcast_shape\u001b[1;34m(*args)\u001b[0m\n\u001b[0;32m    418\u001b[0m     \u001b[1;31m# use the old-iterator because np.nditer does not handle size 0 arrays\u001b[0m\u001b[1;33m\u001b[0m\u001b[1;33m\u001b[0m\u001b[1;33m\u001b[0m\u001b[0m\n\u001b[0;32m    419\u001b[0m     \u001b[1;31m# consistently\u001b[0m\u001b[1;33m\u001b[0m\u001b[1;33m\u001b[0m\u001b[1;33m\u001b[0m\u001b[0m\n\u001b[1;32m--> 420\u001b[1;33m     \u001b[0mb\u001b[0m \u001b[1;33m=\u001b[0m \u001b[0mnp\u001b[0m\u001b[1;33m.\u001b[0m\u001b[0mbroadcast\u001b[0m\u001b[1;33m(\u001b[0m\u001b[1;33m*\u001b[0m\u001b[0margs\u001b[0m\u001b[1;33m[\u001b[0m\u001b[1;33m:\u001b[0m\u001b[1;36m32\u001b[0m\u001b[1;33m]\u001b[0m\u001b[1;33m)\u001b[0m\u001b[1;33m\u001b[0m\u001b[1;33m\u001b[0m\u001b[0m\n\u001b[0m\u001b[0;32m    421\u001b[0m     \u001b[1;31m# unfortunately, it cannot handle 32 or more arguments directly\u001b[0m\u001b[1;33m\u001b[0m\u001b[1;33m\u001b[0m\u001b[1;33m\u001b[0m\u001b[0m\n\u001b[0;32m    422\u001b[0m     \u001b[1;32mfor\u001b[0m \u001b[0mpos\u001b[0m \u001b[1;32min\u001b[0m \u001b[0mrange\u001b[0m\u001b[1;33m(\u001b[0m\u001b[1;36m32\u001b[0m\u001b[1;33m,\u001b[0m \u001b[0mlen\u001b[0m\u001b[1;33m(\u001b[0m\u001b[0margs\u001b[0m\u001b[1;33m)\u001b[0m\u001b[1;33m,\u001b[0m \u001b[1;36m31\u001b[0m\u001b[1;33m)\u001b[0m\u001b[1;33m:\u001b[0m\u001b[1;33m\u001b[0m\u001b[1;33m\u001b[0m\u001b[0m\n",
      "\u001b[1;31mValueError\u001b[0m: shape mismatch: objects cannot be broadcast to a single shape"
     ]
    },
    {
     "data": {
      "image/png": "[encoded data removed]",
      "text/plain": [
       "<Figure size 640x480 with 1 Axes>"
      ]
     },
     "metadata": {},
     "output_type": "display_data"
    }
   ],
   "source": [
    "plt.barh(forestRegr, forestRegr.feature_importances_)"
   ]
  },
  {
   "cell_type": "code",
   "execution_count": null,
   "id": "ff81ff39",
   "metadata": {},
   "outputs": [],
   "source": []
  }
 ],
 "metadata": {
  "kernelspec": {
   "display_name": "mlenv",
   "language": "python",
   "name": "mlenv"
  },
  "language_info": {
   "codemirror_mode": {
    "name": "ipython",
    "version": 3
   },
   "file_extension": ".py",
   "mimetype": "text/x-python",
   "name": "python",
   "nbconvert_exporter": "python",
   "pygments_lexer": "ipython3",
   "version": "3.7.13"
  }
 },
 "nbformat": 4,
 "nbformat_minor": 5
}
