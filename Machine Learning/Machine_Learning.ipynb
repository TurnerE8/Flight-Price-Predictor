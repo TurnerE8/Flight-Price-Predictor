{
 "cells": [
  {
   "cell_type": "code",
   "execution_count": 4,
   "id": "06db5f09",
   "metadata": {},
   "outputs": [],
   "source": [
    "# import dependencies\n",
    "import warnings\n",
    "warnings.filterwarnings('ignore')"
   ]
  },
  {
   "cell_type": "code",
   "execution_count": 5,
   "id": "2e4e70b7",
   "metadata": {},
   "outputs": [],
   "source": [
    "import numpy as np\n",
    "import pandas as pd\n",
    "from pathlib import Path\n",
    "from collections import Counter"
   ]
  },
  {
   "cell_type": "code",
   "execution_count": 6,
   "id": "8efb5916",
   "metadata": {},
   "outputs": [],
   "source": [
    "from sklearn.preprocessing import LabelEncoder\n",
    "from sklearn import linear_model\n",
    "from sklearn.linear_model import LinearRegression\n",
    "from sklearn.ensemble import RandomForestRegressor\n",
    "from sklearn.datasets import make_regression\n",
    "from sklearn.model_selection import train_test_split\n",
    "from sklearn.metrics import r2_score\n",
    "from sklearn.metrics import mean_squared_error"
   ]
  },
  {
   "cell_type": "code",
   "execution_count": 7,
   "id": "d1ae985c",
   "metadata": {},
   "outputs": [
    {
     "data": {
      "text/html": [
       "<div>\n",
       "<style scoped>\n",
       "    .dataframe tbody tr th:only-of-type {\n",
       "        vertical-align: middle;\n",
       "    }\n",
       "\n",
       "    .dataframe tbody tr th {\n",
       "        vertical-align: top;\n",
       "    }\n",
       "\n",
       "    .dataframe thead th {\n",
       "        text-align: right;\n",
       "    }\n",
       "</style>\n",
       "<table border=\"1\" class=\"dataframe\">\n",
       "  <thead>\n",
       "    <tr style=\"text-align: right;\">\n",
       "      <th></th>\n",
       "      <th>Unnamed: 0</th>\n",
       "      <th>searchDate</th>\n",
       "      <th>flightDate</th>\n",
       "      <th>startingAirport</th>\n",
       "      <th>destinationAirport</th>\n",
       "      <th>travelDuration</th>\n",
       "      <th>isBasicEconomy</th>\n",
       "      <th>isRefundable</th>\n",
       "      <th>isNonStop</th>\n",
       "      <th>totalFare</th>\n",
       "      <th>totalTravelDistance</th>\n",
       "      <th>searchDaysBeforeFlight</th>\n",
       "    </tr>\n",
       "  </thead>\n",
       "  <tbody>\n",
       "    <tr>\n",
       "      <th>0</th>\n",
       "      <td>0</td>\n",
       "      <td>2022-09-28</td>\n",
       "      <td>2022-10-05</td>\n",
       "      <td>SFO</td>\n",
       "      <td>ORD</td>\n",
       "      <td>0 days 07:05:00</td>\n",
       "      <td>0</td>\n",
       "      <td>0</td>\n",
       "      <td>0</td>\n",
       "      <td>451.60</td>\n",
       "      <td>1933.0</td>\n",
       "      <td>7</td>\n",
       "    </tr>\n",
       "    <tr>\n",
       "      <th>1</th>\n",
       "      <td>1</td>\n",
       "      <td>2022-09-28</td>\n",
       "      <td>2022-10-05</td>\n",
       "      <td>SFO</td>\n",
       "      <td>ORD</td>\n",
       "      <td>0 days 07:52:00</td>\n",
       "      <td>0</td>\n",
       "      <td>0</td>\n",
       "      <td>0</td>\n",
       "      <td>451.60</td>\n",
       "      <td>1933.0</td>\n",
       "      <td>7</td>\n",
       "    </tr>\n",
       "    <tr>\n",
       "      <th>2</th>\n",
       "      <td>2</td>\n",
       "      <td>2022-09-28</td>\n",
       "      <td>2022-10-05</td>\n",
       "      <td>SFO</td>\n",
       "      <td>ORD</td>\n",
       "      <td>0 days 08:34:00</td>\n",
       "      <td>0</td>\n",
       "      <td>0</td>\n",
       "      <td>0</td>\n",
       "      <td>451.60</td>\n",
       "      <td>1933.0</td>\n",
       "      <td>7</td>\n",
       "    </tr>\n",
       "    <tr>\n",
       "      <th>3</th>\n",
       "      <td>3</td>\n",
       "      <td>2022-09-28</td>\n",
       "      <td>2022-10-05</td>\n",
       "      <td>SFO</td>\n",
       "      <td>PHL</td>\n",
       "      <td>0 days 07:49:00</td>\n",
       "      <td>0</td>\n",
       "      <td>0</td>\n",
       "      <td>0</td>\n",
       "      <td>103.99</td>\n",
       "      <td>2590.0</td>\n",
       "      <td>7</td>\n",
       "    </tr>\n",
       "    <tr>\n",
       "      <th>4</th>\n",
       "      <td>4</td>\n",
       "      <td>2022-09-28</td>\n",
       "      <td>2022-10-05</td>\n",
       "      <td>SFO</td>\n",
       "      <td>PHL</td>\n",
       "      <td>0 days 13:19:00</td>\n",
       "      <td>0</td>\n",
       "      <td>0</td>\n",
       "      <td>0</td>\n",
       "      <td>109.59</td>\n",
       "      <td>2590.0</td>\n",
       "      <td>7</td>\n",
       "    </tr>\n",
       "  </tbody>\n",
       "</table>\n",
       "</div>"
      ],
      "text/plain": [
       "   Unnamed: 0  searchDate  flightDate startingAirport destinationAirport  \\\n",
       "0           0  2022-09-28  2022-10-05             SFO                ORD   \n",
       "1           1  2022-09-28  2022-10-05             SFO                ORD   \n",
       "2           2  2022-09-28  2022-10-05             SFO                ORD   \n",
       "3           3  2022-09-28  2022-10-05             SFO                PHL   \n",
       "4           4  2022-09-28  2022-10-05             SFO                PHL   \n",
       "\n",
       "    travelDuration  isBasicEconomy  isRefundable  isNonStop  totalFare  \\\n",
       "0  0 days 07:05:00               0             0          0     451.60   \n",
       "1  0 days 07:52:00               0             0          0     451.60   \n",
       "2  0 days 08:34:00               0             0          0     451.60   \n",
       "3  0 days 07:49:00               0             0          0     103.99   \n",
       "4  0 days 13:19:00               0             0          0     109.59   \n",
       "\n",
       "   totalTravelDistance  searchDaysBeforeFlight  \n",
       "0               1933.0                       7  \n",
       "1               1933.0                       7  \n",
       "2               1933.0                       7  \n",
       "3               2590.0                       7  \n",
       "4               2590.0                       7  "
      ]
     },
     "execution_count": 7,
     "metadata": {},
     "output_type": "execute_result"
    }
   ],
   "source": [
    "# Load the data\n",
    "file_path = Path(\"../Resources/flight_data_clean_all.csv\")\n",
    "df = pd.read_csv(file_path, skiprows=0)[:-2]\n",
    "\n",
    "df.head()"
   ]
  },
  {
   "cell_type": "code",
   "execution_count": 8,
   "id": "494e28da",
   "metadata": {},
   "outputs": [
    {
     "data": {
      "text/html": [
       "<div>\n",
       "<style scoped>\n",
       "    .dataframe tbody tr th:only-of-type {\n",
       "        vertical-align: middle;\n",
       "    }\n",
       "\n",
       "    .dataframe tbody tr th {\n",
       "        vertical-align: top;\n",
       "    }\n",
       "\n",
       "    .dataframe thead th {\n",
       "        text-align: right;\n",
       "    }\n",
       "</style>\n",
       "<table border=\"1\" class=\"dataframe\">\n",
       "  <thead>\n",
       "    <tr style=\"text-align: right;\">\n",
       "      <th></th>\n",
       "      <th>flightDate</th>\n",
       "      <th>startingAirport</th>\n",
       "      <th>destinationAirport</th>\n",
       "      <th>travelDuration</th>\n",
       "      <th>isBasicEconomy</th>\n",
       "      <th>isRefundable</th>\n",
       "      <th>isNonStop</th>\n",
       "      <th>totalFare</th>\n",
       "      <th>totalTravelDistance</th>\n",
       "      <th>searchDaysBeforeFlight</th>\n",
       "    </tr>\n",
       "  </thead>\n",
       "  <tbody>\n",
       "    <tr>\n",
       "      <th>0</th>\n",
       "      <td>2022-10-05</td>\n",
       "      <td>SFO</td>\n",
       "      <td>ORD</td>\n",
       "      <td>0 days 07:05:00</td>\n",
       "      <td>0</td>\n",
       "      <td>0</td>\n",
       "      <td>0</td>\n",
       "      <td>451.60</td>\n",
       "      <td>1933.0</td>\n",
       "      <td>7</td>\n",
       "    </tr>\n",
       "    <tr>\n",
       "      <th>1</th>\n",
       "      <td>2022-10-05</td>\n",
       "      <td>SFO</td>\n",
       "      <td>ORD</td>\n",
       "      <td>0 days 07:52:00</td>\n",
       "      <td>0</td>\n",
       "      <td>0</td>\n",
       "      <td>0</td>\n",
       "      <td>451.60</td>\n",
       "      <td>1933.0</td>\n",
       "      <td>7</td>\n",
       "    </tr>\n",
       "    <tr>\n",
       "      <th>2</th>\n",
       "      <td>2022-10-05</td>\n",
       "      <td>SFO</td>\n",
       "      <td>ORD</td>\n",
       "      <td>0 days 08:34:00</td>\n",
       "      <td>0</td>\n",
       "      <td>0</td>\n",
       "      <td>0</td>\n",
       "      <td>451.60</td>\n",
       "      <td>1933.0</td>\n",
       "      <td>7</td>\n",
       "    </tr>\n",
       "    <tr>\n",
       "      <th>3</th>\n",
       "      <td>2022-10-05</td>\n",
       "      <td>SFO</td>\n",
       "      <td>PHL</td>\n",
       "      <td>0 days 07:49:00</td>\n",
       "      <td>0</td>\n",
       "      <td>0</td>\n",
       "      <td>0</td>\n",
       "      <td>103.99</td>\n",
       "      <td>2590.0</td>\n",
       "      <td>7</td>\n",
       "    </tr>\n",
       "    <tr>\n",
       "      <th>4</th>\n",
       "      <td>2022-10-05</td>\n",
       "      <td>SFO</td>\n",
       "      <td>PHL</td>\n",
       "      <td>0 days 13:19:00</td>\n",
       "      <td>0</td>\n",
       "      <td>0</td>\n",
       "      <td>0</td>\n",
       "      <td>109.59</td>\n",
       "      <td>2590.0</td>\n",
       "      <td>7</td>\n",
       "    </tr>\n",
       "  </tbody>\n",
       "</table>\n",
       "</div>"
      ],
      "text/plain": [
       "   flightDate startingAirport destinationAirport   travelDuration  \\\n",
       "0  2022-10-05             SFO                ORD  0 days 07:05:00   \n",
       "1  2022-10-05             SFO                ORD  0 days 07:52:00   \n",
       "2  2022-10-05             SFO                ORD  0 days 08:34:00   \n",
       "3  2022-10-05             SFO                PHL  0 days 07:49:00   \n",
       "4  2022-10-05             SFO                PHL  0 days 13:19:00   \n",
       "\n",
       "   isBasicEconomy  isRefundable  isNonStop  totalFare  totalTravelDistance  \\\n",
       "0               0             0          0     451.60               1933.0   \n",
       "1               0             0          0     451.60               1933.0   \n",
       "2               0             0          0     451.60               1933.0   \n",
       "3               0             0          0     103.99               2590.0   \n",
       "4               0             0          0     109.59               2590.0   \n",
       "\n",
       "   searchDaysBeforeFlight  \n",
       "0                       7  \n",
       "1                       7  \n",
       "2                       7  \n",
       "3                       7  \n",
       "4                       7  "
      ]
     },
     "execution_count": 8,
     "metadata": {},
     "output_type": "execute_result"
    }
   ],
   "source": [
    "#drop first two columns\n",
    "df = df.iloc[: , 2:]\n",
    "df.head()"
   ]
  },
  {
   "cell_type": "code",
   "execution_count": 9,
   "id": "e40fd702",
   "metadata": {},
   "outputs": [
    {
     "data": {
      "text/plain": [
       "flightDate                     0\n",
       "startingAirport                0\n",
       "destinationAirport             0\n",
       "travelDuration                 0\n",
       "isBasicEconomy                 0\n",
       "isRefundable                   0\n",
       "isNonStop                      0\n",
       "totalFare                      0\n",
       "totalTravelDistance       116321\n",
       "searchDaysBeforeFlight         0\n",
       "dtype: int64"
      ]
     },
     "execution_count": 9,
     "metadata": {},
     "output_type": "execute_result"
    }
   ],
   "source": [
    "#check for null values\n",
    "df.isna().sum()"
   ]
  },
  {
   "cell_type": "code",
   "execution_count": 10,
   "id": "ef9bc91f",
   "metadata": {},
   "outputs": [
    {
     "data": {
      "text/plain": [
       "flightDate                0\n",
       "startingAirport           0\n",
       "destinationAirport        0\n",
       "travelDuration            0\n",
       "isBasicEconomy            0\n",
       "isRefundable              0\n",
       "isNonStop                 0\n",
       "totalFare                 0\n",
       "totalTravelDistance       0\n",
       "searchDaysBeforeFlight    0\n",
       "dtype: int64"
      ]
     },
     "execution_count": 10,
     "metadata": {},
     "output_type": "execute_result"
    }
   ],
   "source": [
    "#drop null values. still have over 1.5 million rows of data.\n",
    "df = df.dropna()\n",
    "df.isna().sum()"
   ]
  },
  {
   "cell_type": "code",
   "execution_count": 11,
   "id": "f24e9c13",
   "metadata": {},
   "outputs": [
    {
     "data": {
      "text/plain": [
       "flightDate                 object\n",
       "startingAirport            object\n",
       "destinationAirport         object\n",
       "travelDuration             object\n",
       "isBasicEconomy              int64\n",
       "isRefundable                int64\n",
       "isNonStop                   int64\n",
       "totalFare                 float64\n",
       "totalTravelDistance       float64\n",
       "searchDaysBeforeFlight      int64\n",
       "dtype: object"
      ]
     },
     "execution_count": 11,
     "metadata": {},
     "output_type": "execute_result"
    }
   ],
   "source": [
    "# check df datatypes\n",
    "df.dtypes"
   ]
  },
  {
   "cell_type": "code",
   "execution_count": 12,
   "id": "487d51f0",
   "metadata": {},
   "outputs": [],
   "source": [
    "# start new df and encode startingAirport and endingAirport\n",
    "le = LabelEncoder()\n",
    "df2 = df.copy()\n",
    "df2['startingAirport'] = le.fit_transform(df2['startingAirport'])\n",
    "df2['destinationAirport'] = le.fit_transform(df2['destinationAirport'])"
   ]
  },
  {
   "cell_type": "code",
   "execution_count": 13,
   "id": "c6b5065d",
   "metadata": {},
   "outputs": [
    {
     "data": {
      "text/html": [
       "<div>\n",
       "<style scoped>\n",
       "    .dataframe tbody tr th:only-of-type {\n",
       "        vertical-align: middle;\n",
       "    }\n",
       "\n",
       "    .dataframe tbody tr th {\n",
       "        vertical-align: top;\n",
       "    }\n",
       "\n",
       "    .dataframe thead th {\n",
       "        text-align: right;\n",
       "    }\n",
       "</style>\n",
       "<table border=\"1\" class=\"dataframe\">\n",
       "  <thead>\n",
       "    <tr style=\"text-align: right;\">\n",
       "      <th></th>\n",
       "      <th>flightDate</th>\n",
       "      <th>startingAirport</th>\n",
       "      <th>destinationAirport</th>\n",
       "      <th>isBasicEconomy</th>\n",
       "      <th>isRefundable</th>\n",
       "      <th>isNonStop</th>\n",
       "      <th>totalFare</th>\n",
       "      <th>totalTravelDistance</th>\n",
       "      <th>searchDaysBeforeFlight</th>\n",
       "      <th>travelDurationFinal</th>\n",
       "    </tr>\n",
       "  </thead>\n",
       "  <tbody>\n",
       "    <tr>\n",
       "      <th>0</th>\n",
       "      <td>2022-10-05</td>\n",
       "      <td>15</td>\n",
       "      <td>13</td>\n",
       "      <td>0</td>\n",
       "      <td>0</td>\n",
       "      <td>0</td>\n",
       "      <td>451.60</td>\n",
       "      <td>1933.0</td>\n",
       "      <td>7</td>\n",
       "      <td>425</td>\n",
       "    </tr>\n",
       "    <tr>\n",
       "      <th>1</th>\n",
       "      <td>2022-10-05</td>\n",
       "      <td>15</td>\n",
       "      <td>13</td>\n",
       "      <td>0</td>\n",
       "      <td>0</td>\n",
       "      <td>0</td>\n",
       "      <td>451.60</td>\n",
       "      <td>1933.0</td>\n",
       "      <td>7</td>\n",
       "      <td>472</td>\n",
       "    </tr>\n",
       "    <tr>\n",
       "      <th>2</th>\n",
       "      <td>2022-10-05</td>\n",
       "      <td>15</td>\n",
       "      <td>13</td>\n",
       "      <td>0</td>\n",
       "      <td>0</td>\n",
       "      <td>0</td>\n",
       "      <td>451.60</td>\n",
       "      <td>1933.0</td>\n",
       "      <td>7</td>\n",
       "      <td>514</td>\n",
       "    </tr>\n",
       "    <tr>\n",
       "      <th>3</th>\n",
       "      <td>2022-10-05</td>\n",
       "      <td>15</td>\n",
       "      <td>14</td>\n",
       "      <td>0</td>\n",
       "      <td>0</td>\n",
       "      <td>0</td>\n",
       "      <td>103.99</td>\n",
       "      <td>2590.0</td>\n",
       "      <td>7</td>\n",
       "      <td>469</td>\n",
       "    </tr>\n",
       "    <tr>\n",
       "      <th>4</th>\n",
       "      <td>2022-10-05</td>\n",
       "      <td>15</td>\n",
       "      <td>14</td>\n",
       "      <td>0</td>\n",
       "      <td>0</td>\n",
       "      <td>0</td>\n",
       "      <td>109.59</td>\n",
       "      <td>2590.0</td>\n",
       "      <td>7</td>\n",
       "      <td>799</td>\n",
       "    </tr>\n",
       "  </tbody>\n",
       "</table>\n",
       "</div>"
      ],
      "text/plain": [
       "   flightDate  startingAirport  destinationAirport  isBasicEconomy  \\\n",
       "0  2022-10-05               15                  13               0   \n",
       "1  2022-10-05               15                  13               0   \n",
       "2  2022-10-05               15                  13               0   \n",
       "3  2022-10-05               15                  14               0   \n",
       "4  2022-10-05               15                  14               0   \n",
       "\n",
       "   isRefundable  isNonStop  totalFare  totalTravelDistance  \\\n",
       "0             0          0     451.60               1933.0   \n",
       "1             0          0     451.60               1933.0   \n",
       "2             0          0     451.60               1933.0   \n",
       "3             0          0     103.99               2590.0   \n",
       "4             0          0     109.59               2590.0   \n",
       "\n",
       "   searchDaysBeforeFlight  travelDurationFinal  \n",
       "0                       7                  425  \n",
       "1                       7                  472  \n",
       "2                       7                  514  \n",
       "3                       7                  469  \n",
       "4                       7                  799  "
      ]
     },
     "execution_count": 13,
     "metadata": {},
     "output_type": "execute_result"
    }
   ],
   "source": [
    "#convert travelDuration to minutes\n",
    "df2['travelDurationDays'] = pd.to_numeric(df2['travelDuration'].str.slice(0,1))\n",
    "df2['travelDurationHours'] = pd.to_numeric(df2['travelDuration'].str.slice(7,9))\n",
    "df2['travelDurationMinutes'] = pd.to_numeric(df2['travelDuration'].str.slice(10,12))\n",
    "df2['travelDurationFinal'] = ((df2['travelDurationDays']*1440)+(df2['travelDurationHours']*60)+(df2['travelDurationMinutes']))\n",
    "df2 = df2.drop(columns=['travelDurationDays','travelDurationHours','travelDurationMinutes','travelDuration'])\n",
    "df2.head()"
   ]
  },
  {
   "cell_type": "code",
   "execution_count": 14,
   "id": "91899a21",
   "metadata": {},
   "outputs": [
    {
     "data": {
      "text/plain": [
       "flightDate                float64\n",
       "startingAirport             int32\n",
       "destinationAirport          int32\n",
       "isBasicEconomy              int64\n",
       "isRefundable                int64\n",
       "isNonStop                   int64\n",
       "totalFare                 float64\n",
       "totalTravelDistance       float64\n",
       "searchDaysBeforeFlight      int64\n",
       "travelDurationFinal         int64\n",
       "dtype: object"
      ]
     },
     "execution_count": 14,
     "metadata": {},
     "output_type": "execute_result"
    }
   ],
   "source": [
    "# convert flight date to number format\n",
    "df2['flightDate'] = pd.to_datetime(df['flightDate']).astype('int64')/ 10**9\n",
    "df2.dtypes"
   ]
  },
  {
   "cell_type": "code",
   "execution_count": 15,
   "id": "1a45758c",
   "metadata": {},
   "outputs": [],
   "source": [
    "# Create our features\n",
    "X = df2.copy()\n",
    "X = X.drop(\"totalFare\", axis=1)\n",
    "\n",
    "# Create our target\n",
    "y = df[\"totalFare\"]"
   ]
  },
  {
   "cell_type": "code",
   "execution_count": 16,
   "id": "68debcb2",
   "metadata": {},
   "outputs": [
    {
     "data": {
      "text/plain": [
       "(1226787, 9)"
      ]
     },
     "execution_count": 16,
     "metadata": {},
     "output_type": "execute_result"
    }
   ],
   "source": [
    "#split data into training and testing\n",
    "X_train, X_test, y_train, y_test = train_test_split(X, \n",
    "                                                    y, \n",
    "                                                    random_state=1)\n",
    "X_train.shape "
   ]
  },
  {
   "cell_type": "code",
   "execution_count": 17,
   "id": "b85e8d76",
   "metadata": {},
   "outputs": [
    {
     "data": {
      "text/plain": [
       "LinearRegression()"
      ]
     },
     "execution_count": 17,
     "metadata": {},
     "output_type": "execute_result"
    }
   ],
   "source": [
    "# fit a linear regression model\n",
    "regr = LinearRegression()\n",
    "regr.fit(X_train, y_train) "
   ]
  },
  {
   "cell_type": "code",
   "execution_count": 18,
   "id": "e8ba919a",
   "metadata": {},
   "outputs": [
    {
     "data": {
      "text/plain": [
       "array([193.13987793, 303.82128748, 337.4056246 , ...,  90.72735578,\n",
       "       408.1134495 , 163.03407059])"
      ]
     },
     "execution_count": 18,
     "metadata": {},
     "output_type": "execute_result"
    }
   ],
   "source": [
    "#predict flight costs\n",
    "y_prediction = regr.predict(X_test)\n",
    "y_prediction"
   ]
  },
  {
   "cell_type": "code",
   "execution_count": 19,
   "id": "249e707c",
   "metadata": {},
   "outputs": [
    {
     "name": "stdout",
     "output_type": "stream",
     "text": [
      "r2 score:  0.4250553525214894\n",
      "mean_sqrd_error:  21500.144505885368\n",
      "root_mean_squared error of:  146.62927574630302\n"
     ]
    }
   ],
   "source": [
    "# evaluate linear regression model\n",
    "score = r2_score(y_test,y_prediction)\n",
    "print('r2 score: ',score)\n",
    "print('mean_sqrd_error: ',mean_squared_error(y_test,y_prediction))\n",
    "print('root_mean_squared error of: ',np.sqrt(mean_squared_error(y_test,y_prediction)))"
   ]
  },
  {
   "cell_type": "code",
   "execution_count": 20,
   "id": "99b9bd05",
   "metadata": {},
   "outputs": [],
   "source": [
    "#initialize random forest regressor model\n",
    "X_train, y_train = make_regression(n_features=9)\n",
    "forestRegr = RandomForestRegressor(max_depth=None, random_state=0)"
   ]
  },
  {
   "cell_type": "code",
   "execution_count": 21,
   "id": "70539626",
   "metadata": {},
   "outputs": [
    {
     "data": {
      "text/plain": [
       "RandomForestRegressor(random_state=0)"
      ]
     },
     "execution_count": 21,
     "metadata": {},
     "output_type": "execute_result"
    }
   ],
   "source": [
    "#fit random forest regessor data\n",
    "forestRegr.fit(X_train, y_train)"
   ]
  },
  {
   "cell_type": "code",
   "execution_count": 22,
   "id": "4d59b8ef",
   "metadata": {},
   "outputs": [
    {
     "data": {
      "text/plain": [
       "array([272.57655693, 264.95678202, 201.20101685, ..., 252.91427866,\n",
       "       262.78331682, 272.57655693])"
      ]
     },
     "execution_count": 22,
     "metadata": {},
     "output_type": "execute_result"
    }
   ],
   "source": [
    "#run random orest regressor model\n",
    "forestPredict = forestRegr.predict(X_test)\n",
    "forestPredict"
   ]
  },
  {
   "cell_type": "code",
   "execution_count": 23,
   "id": "7a2edde3",
   "metadata": {},
   "outputs": [
    {
     "name": "stdout",
     "output_type": "stream",
     "text": [
      "r2 score:  -0.12274789897873584\n",
      "mean_sqrd_error:  41985.33228822562\n",
      "root_mean_squared error of:  204.9032266418116\n"
     ]
    }
   ],
   "source": [
    "#evaluate random forest regressor model\n",
    "forestScore = r2_score(y_test, forestPredict)\n",
    "print('r2 score: ',forestScore)\n",
    "print('mean_sqrd_error: ',mean_squared_error(y_test,forestPredict))\n",
    "print('root_mean_squared error of: ',np.sqrt(mean_squared_error(y_test,forestPredict)))"
   ]
  },
  {
   "cell_type": "code",
   "execution_count": null,
   "id": "29e46d5e",
   "metadata": {},
   "outputs": [],
   "source": []
  }
 ],
 "metadata": {
  "kernelspec": {
   "display_name": "mlenv",
   "language": "python",
   "name": "mlenv"
  },
  "language_info": {
   "codemirror_mode": {
    "name": "ipython",
    "version": 3
   },
   "file_extension": ".py",
   "mimetype": "text/x-python",
   "name": "python",
   "nbconvert_exporter": "python",
   "pygments_lexer": "ipython3",
   "version": "3.7.13"
  }
 },
 "nbformat": 4,
 "nbformat_minor": 5
}
